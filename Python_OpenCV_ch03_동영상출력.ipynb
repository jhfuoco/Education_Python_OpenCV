{
 "cells": [
  {
   "cell_type": "markdown",
   "id": "0740db6e-8af8-4889-8d39-21766ffab26f",
   "metadata": {},
   "source": [
    "# 3. 동영상 출력\n",
    "\n",
    "비디오 영상 출력 - pexels.com/videos/"
   ]
  },
  {
   "cell_type": "code",
   "execution_count": 1,
   "id": "285e5730-b7e8-4f0e-8776-9a0b8eaa262c",
   "metadata": {},
   "outputs": [
    {
     "name": "stdout",
     "output_type": "stream",
     "text": [
      "더 이상 가져올 프레임이 없어요.\n"
     ]
    }
   ],
   "source": [
    "import cv2\n",
    "\n",
    "# 비디오 불러오기 \n",
    "cap = cv2.VideoCapture(\"./data/playground.mp4\")\n",
    "\n",
    "if cap.isOpened() == False:\n",
    "    print(\"동영상을 열지 못했습니다.\")\n",
    "    exit(1)\n",
    "\n",
    "#프레임 반복횟수를 모르기 때문에 for문이 아닌, while문 사용\n",
    "while True:\n",
    "    # ret(True, False) <-인덱스, frame(영상 프레임)\n",
    "    ret, frame = cap.read()\n",
    "    if not ret:\n",
    "        print(\"더 이상 가져올 프레임이 없어요.\")\n",
    "        break\n",
    "    cv2.imshow(\"video\", frame)\n",
    "\n",
    "    if cv2.waitKey(25) == ord(\"q\"):\n",
    "        print(\"사용자 입력에 의해 종료합니다.\")\n",
    "        break\n",
    "\n",
    "cap.release()\n",
    "cv2.destroyAllWindows()"
   ]
  },
  {
   "cell_type": "markdown",
   "id": "c32aa46a-8f5b-4375-97a7-70f12c35df2c",
   "metadata": {},
   "source": [
    "카메라 (웹캠)"
   ]
  },
  {
   "cell_type": "code",
   "execution_count": 1,
   "id": "4e5a8cc9-b68e-45f9-893f-ebbccf2483c7",
   "metadata": {},
   "outputs": [
    {
     "name": "stdout",
     "output_type": "stream",
     "text": [
      "사용자 입력에 의해 종료합니다.\n"
     ]
    }
   ],
   "source": [
    "import cv2\n",
    "\n",
    "# 매개변수\n",
    "# - 경로 -> 해당 영상 불러오기\n",
    "# - 숫자(인덱스) -> ex) 0(0번째 카메라 장치)\n",
    "\n",
    "cap = cv2.VideoCapture(0)\n",
    "\n",
    "if not cap.isOpened():\n",
    "    exit()\n",
    "\n",
    "# 카메라는 영상 제한이 없기 때문에 무한반복 재생됨\n",
    "while True:\n",
    "    # ret(True, False) <-인덱스, frame(영상 프레임)\n",
    "    ret, frame = cap.read()\n",
    "    if not ret:\n",
    "        print(\"더 이상 가져올 프레임이 없어요.\")\n",
    "        break\n",
    "    cv2.imshow(\"camera\", frame)\n",
    "\n",
    "    if cv2.waitKey(25) == ord(\"q\"):\n",
    "        print(\"사용자 입력에 의해 종료합니다.\")\n",
    "        break"
   ]
  }
 ],
 "metadata": {
  "kernelspec": {
   "display_name": "Python 3 (ipykernel)",
   "language": "python",
   "name": "python3"
  },
  "language_info": {
   "codemirror_mode": {
    "name": "ipython",
    "version": 3
   },
   "file_extension": ".py",
   "mimetype": "text/x-python",
   "name": "python",
   "nbconvert_exporter": "python",
   "pygments_lexer": "ipython3",
   "version": "3.10.9"
  }
 },
 "nbformat": 4,
 "nbformat_minor": 5
}
