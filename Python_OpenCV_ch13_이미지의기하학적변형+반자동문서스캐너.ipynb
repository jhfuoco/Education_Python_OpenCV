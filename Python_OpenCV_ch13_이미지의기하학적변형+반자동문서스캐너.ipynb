{
 "cells": [
  {
   "cell_type": "markdown",
   "id": "c5e7f905-cba2-4bbe-af8c-fc2a946b8390",
   "metadata": {},
   "source": [
    "# 13. 이미지의 기하학적 변형"
   ]
  },
  {
   "cell_type": "markdown",
   "id": "04663409-7384-4ada-9ab5-29a6f750b604",
   "metadata": {},
   "source": [
    "```python\n",
    "# 이미지 위치를 변경하는 함수\n",
    "# - M : 변환 행렬\n",
    "# - dsize : Manual Size\n",
    "cv2.warpAffine(image, M, dsize)\n",
    "```"
   ]
  },
  {
   "cell_type": "markdown",
   "id": "77ebc781-89f7-44f1-b6b7-255faa34678c",
   "metadata": {},
   "source": [
    "이미지 위치(Translation)"
   ]
  },
  {
   "cell_type": "code",
   "execution_count": 1,
   "id": "542ad752-4bb8-4188-8829-614ce96b7a21",
   "metadata": {},
   "outputs": [],
   "source": [
    "import cv2\n",
    "import numpy as np\n",
    "img = cv2.imread(\"./data/panda.jpg\")\n",
    "height, width = img.shape[:2] #(세로,가로,채널)\n",
    "\n",
    "M = np.float32([[1,0,100], [0,1,50]]) # 가로로 100만큼, 세로로 50만큼\n",
    "\n",
    "dst = cv2.warpAffine(img, M, (width, height))\n",
    "cv2.imshow(\"Original\", img)\n",
    "cv2.imshow(\"Translation\", dst)\n",
    "\n",
    "cv2.waitKey(0)\n",
    "cv2.destroyAllWindows()"
   ]
  },
  {
   "cell_type": "markdown",
   "id": "f3e2166e-608c-4d15-a251-cf8a87757b41",
   "metadata": {},
   "source": [
    "Affine Transformation\n",
    "\n",
    "- 선의 평행성은 유지가 되면서 이미지를 변환하는 작업\n",
    "- 이동, 확대, Scale, 반전까지 포함된 변환\n",
    "- Affine 변환을 위해서는 3개의 Match가 되는 점이 있으면 변환행렬 계산 가능"
   ]
  },
  {
   "cell_type": "code",
   "execution_count": 2,
   "id": "ab87e78c-c44d-4db0-8bf1-d5f64aea5738",
   "metadata": {},
   "outputs": [],
   "source": [
    "import cv2\n",
    "import numpy as np\n",
    "\n",
    "img = cv2.imread(\"./data/panda.jpg\")\n",
    "rows, cols, ch = img.shape\n",
    "\n",
    "pts1 = np.float32([[200, 100], [400, 100], [200, 200]])\n",
    "pts2 = np.float32([[200, 300], [400, 200], [200, 400]])\n",
    "\n",
    "cv2.circle(img, (200, 100), 10, (255, 0, 0), -1)\n",
    "cv2.circle(img, (400, 100), 10, (0, 255, 0), -1)\n",
    "cv2.circle(img, (200, 200), 10, (0, 0, 255), -1)\n",
    "\n",
    "M = cv2.getAffineTransform(pts1, pts2) #pts1을 pts2로 바꿔라\n",
    "\n",
    "dst = cv2.warpAffine(img, M, (cols, rows))\n",
    "\n",
    "cv2.imshow(\"Original\", img)\n",
    "cv2.imshow(\"dst\", dst)\n",
    "\n",
    "cv2.waitKey(0)\n",
    "cv2.destroyAllWindows()"
   ]
  },
  {
   "cell_type": "markdown",
   "id": "542fc03d-2522-4a4d-ae1d-c35b9a62fef8",
   "metadata": {},
   "source": [
    "Perspective(원근법)\n",
    "\n",
    "- 직선의 성질만 유지가 되고, 선의 평행성은 유지가 되지 않는 변환\n",
    "- 기차길은 서로 평행하지만, 원근변환을 거치면 평행성은 유지되지 못하고  \n",
    "    하나의 점에서 만나는 것처럼 보임\n",
    "- 3차원 공간에 있는 물체를 2차원 평면에 올려놓은 느낌\n",
    "- 4개의 Point, input값과 이동할 Output 값 필요"
   ]
  },
  {
   "cell_type": "code",
   "execution_count": 1,
   "id": "c0cbe64e-9924-45f9-99f8-839cf396a179",
   "metadata": {},
   "outputs": [],
   "source": [
    "import cv2\n",
    "import numpy as np\n",
    "\n",
    "img = cv2.imread(\"./data/rail.jpg\")\n",
    "\n",
    "# 좌표점 (좌상, 좌하, 우상, 우하)\n",
    "pts1 = np.float32([[640,4],[640,52],[865,4],[900,52]])\n",
    "# 이동할 좌표점\n",
    "pts2 = np.float32([[10,10],[10,310],[310,10],[310,310]])\n",
    "\n",
    "cv2.circle(img, (640,4), 10, (255,0,0), -1)\n",
    "cv2.circle(img, (640,52), 10, (0,255,0), -1)\n",
    "cv2.circle(img, (865,4), 10, (0,0,255), -1)\n",
    "cv2.circle(img, (900,52), 10, (255,255,255), -1)\n",
    "\n",
    "M = cv2.getPerspectiveTransform(pts1, pts2) #행렬수식을 만드는 과정, 어떻게 변환할건지\n",
    "dst = cv2.warpPerspective(img, M, (310,310))\n",
    "\n",
    "cv2.imshow(\"Original\", img)\n",
    "cv2.imshow(\"dst\", dst)\n",
    "\n",
    "cv2.waitKey(0)\n",
    "cv2.destroyAllWindows()"
   ]
  },
  {
   "cell_type": "markdown",
   "id": "2e63ea94-8142-4af6-9e96-0f07b8f07d3b",
   "metadata": {},
   "source": [
    "이미지 때서 펴기  \n",
    "640x240으로 표현"
   ]
  },
  {
   "cell_type": "code",
   "execution_count": 1,
   "id": "ff371743-68d5-4e80-8edd-d16c20576b46",
   "metadata": {},
   "outputs": [],
   "source": [
    "import cv2\n",
    "import numpy as np\n",
    "\n",
    "img = cv2.imread(\"./data/newspaper.jpg\")\n",
    "\n",
    "height=640\n",
    "width=240\n",
    "\n",
    "# 좌표점\n",
    "pts1 = np.float32([[500, 360], [450, 580], [1010, 350], [1125, 590]])\n",
    "# 이동할 좌표점\n",
    "pts2 = np.float32([[10, 10], [10, width], [height, 10], [height, width]])\n",
    "\n",
    "cv2.circle(img, (500,360), 10, (255,0,0), -1)\n",
    "cv2.circle(img, (450,580), 10, (0,255,0), -1)\n",
    "cv2.circle(img, (1010,350), 10, (0,0,255), -1)\n",
    "cv2.circle(img, (1125,590), 10, (255,255,255), -1)\n",
    "\n",
    "M = cv2.getPerspectiveTransform(pts1,pts2)\n",
    "dst = cv2.warpPerspective(img, M, (height, width))\n",
    "\n",
    "cv2.imshow(\"Original\", img)\n",
    "cv2.imshow(\"dst\", dst)\n",
    "\n",
    "cv2.waitKey(0)\n",
    "cv2.destroyAllWindows()"
   ]
  },
  {
   "cell_type": "code",
   "execution_count": 1,
   "id": "2e17cb77-7a4e-4cbf-822d-7caabc5f6fb1",
   "metadata": {},
   "outputs": [],
   "source": [
    "import cv2\n",
    "import numpy as np\n",
    "\n",
    "img = cv2.imread('./data/poker.jpg')\n",
    "\n",
    "# 폈을 때 이미지 고정된 이미지 크기\n",
    "width, height = 530, 710\n",
    "\n",
    "src = np.array([[702,143],[1133,414],[726,1007],[276,700]], dtype=np.float32) #input 4개 지점\n",
    "dst = np.array([[0,0],[width,0],[width,height],[0,height]], dtype=np.float32) #output 4개 지점\n",
    "# 좌상, 우상, 우하, 좌하 (시계 방향으로 4 지점 정의)\n",
    "\n",
    "matrix = cv2.getPerspectiveTransform(src, dst) # Matrix 얻어옴\n",
    "result = cv2.warpPerspective(img, matrix, (width,height)) # matrix대로 변환을 함\n",
    "\n",
    "cv2.imshow(\"img\", img)\n",
    "cv2.imshow(\"result\", result)\n",
    "cv2.waitKey(0)\n",
    "cv2.destroyAllWindows()"
   ]
  },
  {
   "cell_type": "markdown",
   "id": "e3e6ee48-1b7f-4a3e-a594-9015f3d6dcb0",
   "metadata": {},
   "source": [
    "# 미니 프로젝트 : 반자동 문서 스캐너"
   ]
  },
  {
   "cell_type": "markdown",
   "id": "0f739f3c-0700-430d-a508-cf55c4e53d43",
   "metadata": {},
   "source": [
    "마우스 이벤트 등록"
   ]
  },
  {
   "cell_type": "code",
   "execution_count": 1,
   "id": "85b6336c-28b1-48d0-8303-df779b5e1e74",
   "metadata": {
    "collapsed": true,
    "jupyter": {
     "outputs_hidden": true
    }
   },
   "outputs": [
    {
     "name": "stdout",
     "output_type": "stream",
     "text": [
      "왼쪽 버튼 Down\n",
      "404 654\n",
      "왼쪽 버튼 Up\n",
      "404 654\n",
      "왼쪽 버튼 Down\n",
      "290 836\n",
      "왼쪽 버튼 Up\n",
      "290 836\n",
      "왼쪽 버튼 Down\n",
      "184 337\n",
      "왼쪽 버튼 Up\n",
      "183 506\n"
     ]
    }
   ],
   "source": [
    "import cv2\n",
    "\n",
    "# event : 마우스 이벤트\n",
    "# x : x 좌표값\n",
    "# y : y 좌표값\n",
    "# flags : event와 함께 특수한 작업 확인(이벤트가 마우스 스크롤 -> 플래그는 스크롤의 방향)\n",
    "# param : 우스 콜백 설정 함수에서 함께 전달되는 사용자 정의 데이터를 의미\n",
    "\n",
    "def mouse_handler(event, x, y, flags, param):\n",
    "    if event == cv2.EVENT_LBUTTONDOWN: # 마우스 왼쪽 버튼 Down\n",
    "        print('왼쪽 버튼 Down')\n",
    "        print(x, y)\n",
    "    elif event == cv2.EVENT_LBUTTONUP: # 마우스 왼쪽 버튼 Up\n",
    "        print('왼쪽 버튼 Up')\n",
    "        print(x, y)\n",
    "    elif event == cv2.EVENT_LBUTTONDBLCLK: # 마우스 왼쪽 버튼 더블클릭\n",
    "        print('왼쪽 버튼 Double Click')\n",
    "    # elif event == cv2.EVENT_MOUSEMOVE: # 마우스 이동\n",
    "        # print('마우스 이동')\n",
    "    elif event == cv2.EVENT_RBUTTONDOWN: # 오른쪽 버튼 Down\n",
    "        print('오른쪽 버튼 Down')\n",
    "\n",
    "img = cv2.imread('./data/poker.jpg')\n",
    "cv2.namedWindow('img') # img란 이름의 윈도우를 먼저 만들어두는 것, 여기에 마우스 이벤트를 처리하기 위한 핸들러 적용\n",
    "cv2.setMouseCallback('img', mouse_handler) #callback -> 함수(setMouseCallback)가 함수(mouse_handler)를 호출함\n",
    "cv2.imshow('img', img)\n",
    "cv2.waitKey(0)\n",
    "cv2.destroyAllWindows()\n"
   ]
  },
  {
   "cell_type": "markdown",
   "id": "b5b0e49e-6fe6-4e16-b2f8-0865ccd324bb",
   "metadata": {},
   "source": [
    "프로젝트\n",
    "- 앱에서 보험심사 서류사진으로 보낼 때 활용 가능\n",
    "- 사용자에게 서류의 4개의 꼭지점을 찍어달라고 요청\n",
    "- 그 후, Perspective Transformation 하면 깔끔한 서류 완성"
   ]
  },
  {
   "cell_type": "code",
   "execution_count": 1,
   "id": "da47831e-d1c3-413b-ae4c-941815deff5c",
   "metadata": {},
   "outputs": [],
   "source": [
    "import cv2\n",
    "import numpy as np\n",
    "\n",
    "point_list = [] #스네이크 표기법, PointList->파스칼 표기법(클래스 만들 때 사용), pointList->카멜 표기법(JAVA, C언어)\n",
    "src_img = cv2.imread('./data/poker.jpg')\n",
    "img = cv2.resize(src_img, None, fx=0.5, fy=0.5) #이미지가 너무 커서 0.5배로 축소\n",
    "\n",
    "COLOR =(0,255,0) #선 색상\n",
    "THICKNESS = 2 #선 두께\n",
    "drawing = False # 최초 포인트를 하나 찍었을 때, 선을 그릴 지 여부\n",
    "\n",
    "\n",
    "def mouse_handler(event, x, y, flags, param):\n",
    "    global drawing\n",
    "    dst_img = img.copy() #이미지 복제\n",
    "\n",
    "    if event == cv2.EVENT_LBUTTONDOWN: #마우스 왼쪽버튼 Down\n",
    "        drawing = True\n",
    "        point_list.append((x, y))\n",
    "\n",
    "    if drawing: # == True\n",
    "        prev_point = None #직선의 시작점\n",
    "        for point in point_list: #찍은 포인트들 가져오기\n",
    "            cv2.circle(dst_img, point, 10, COLOR, cv2.FILLED)\n",
    "            if prev_point: #prev_point가 있으면\n",
    "                cv2.line(dst_img, prev_point, point, COLOR, THICKNESS, cv2.LINE_AA)\n",
    "            prev_point = point\n",
    "            # point_list = [(25,50), (60,60), (70,70)]\n",
    "            # prev_point = None->(25,50)->(60,60)->(70,70)\n",
    "            # point = (25,50)->(60,60)->(70,70)\n",
    "            \n",
    "            # 반복문 결과 : 원형점 3개, 직선 2개 -> 이후 반복문 빠져나오기\n",
    "\n",
    "        next_point = (x, y)\n",
    "        if len(point_list) == 4:\n",
    "            show_result() #결과 출력\n",
    "            next_point = point_list[0] #첫 번째 클릭한 지점\n",
    "        cv2.line(dst_img, prev_point, next_point, COLOR, THICKNESS, cv2.LINE_AA)\n",
    "\n",
    "    cv2.imshow(\"Scanner\", dst_img)\n",
    "\n",
    "\n",
    "def show_result():\n",
    "    width, height = 530//2, 710//2 #// : 몫, 0.5배 축소하기 #도화지\n",
    "    src = np.float32(point_list) #4개의 좌표가 point_list에 들어있음\n",
    "    dst = np.array([[0,0],[width,0],[width,height],[0,height]], dtype=np.float32) #src를 펴기 위한 기준좌표 #찍는 순서, 규정된 순서대로 찍기\n",
    "\n",
    "    matrix = cv2.getPerspectiveTransform(src, dst) #행렬 만들기\n",
    "    result = cv2.warpPerspective(img, matrix, (width, height)) #warpPerspective를 통해 펴기 #result는 도화지 결과\n",
    "    cv2.imshow(\"result\", result)\n",
    "\n",
    "cv2.namedWindow(\"Scanner\") # 윈도우 생성, 마우스 이벤트 핸들러 적용\n",
    "cv2.setMouseCallback(\"Scanner\", mouse_handler)\n",
    "cv2.imshow('Scanner', img)\n",
    "cv2.waitKey(0)\n",
    "cv2.destroyAllWindows()"
   ]
  }
 ],
 "metadata": {
  "kernelspec": {
   "display_name": "cv",
   "language": "python",
   "name": "cv"
  },
  "language_info": {
   "codemirror_mode": {
    "name": "ipython",
    "version": 3
   },
   "file_extension": ".py",
   "mimetype": "text/x-python",
   "name": "python",
   "nbconvert_exporter": "python",
   "pygments_lexer": "ipython3",
   "version": "3.8.17"
  }
 },
 "nbformat": 4,
 "nbformat_minor": 5
}
