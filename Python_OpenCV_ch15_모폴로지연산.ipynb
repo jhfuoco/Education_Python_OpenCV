{
 "cells": [
  {
   "cell_type": "markdown",
   "id": "f06fb74a-87b6-448e-84af-3d69c58be7b5",
   "metadata": {},
   "source": [
    "# 15. Morphology 연산"
   ]
  },
  {
   "cell_type": "markdown",
   "id": "67b91576-2e7d-4b83-8245-53101ecb51c8",
   "metadata": {},
   "source": [
    "## Binary Morphology 연산\n",
    "\n",
    "팽창(Dilate) : 굵게 만들기  \n",
    "침식(Erode) : 얇게 만들기  \n",
    "열림(Open) : 외부 노이즈 제거  \n",
    "닫힘(Close) : 내부 노이즈 제거\n",
    "\n",
    "함수 옵션\n",
    "```python\n",
    "- kernel : 전체 이미지 데이터를 작은 이미지 데이터로 읽으면서 효과를 적용  \n",
    "이때 사용하는 작은 이미지가 kernel\n",
    "- iterations : 효과 반복 횟수\n",
    "\n",
    "\n"
   ]
  },
  {
   "cell_type": "markdown",
   "id": "41ea12be-63af-4e0e-9c72-216607503499",
   "metadata": {},
   "source": [
    "## 팽창(Dilation)\n",
    "\n",
    "## 이미지를 확장하여 작은 구멍을 채움\n",
    "### 흰색 영역의 외곽 픽셀 주변에 흰색을 추가"
   ]
  },
  {
   "cell_type": "code",
   "execution_count": 1,
   "id": "2b34e24c-a8a3-4c3a-8fb1-5c79893c1405",
   "metadata": {},
   "outputs": [],
   "source": [
    "import cv2\n",
    "import numpy as np\n",
    "\n",
    "kernel = np.ones((3,3), dtype=np.uint8)\n",
    "# kernel\n",
    "\n",
    "img = cv2.imread('./data/dilate.png', cv2.IMREAD_GRAYSCALE)\n",
    "dilate1 = cv2.dilate(img, kernel, iterations=1) # 반복횟수\n",
    "dilate2 = cv2.dilate(img, kernel, iterations=2)\n",
    "dilate3 = cv2.dilate(img, kernel, iterations=3)\n",
    "\n",
    "cv2.imshow('gray', img)\n",
    "cv2.imshow('dilate1', dilate1)\n",
    "cv2.imshow('dilate2', dilate2)\n",
    "cv2.imshow('dilate3', dilate3)\n",
    "cv2.waitKey(0)\n",
    "cv2.destroyAllWindows()"
   ]
  },
  {
   "cell_type": "markdown",
   "id": "4a3ce0ec-f9fa-4de9-bb9a-342a596663a8",
   "metadata": {},
   "source": [
    "## 침식(Erosion)\n",
    "\n",
    "## 이미지를 깎아서 노이즈 제거\n",
    "### 흰색 영역의 외곽 픽셀을 검은색으로 변경"
   ]
  },
  {
   "cell_type": "code",
   "execution_count": 1,
   "id": "c4af75f8-c405-4c65-824c-ccbf3fa2d60b",
   "metadata": {},
   "outputs": [],
   "source": [
    "import cv2\n",
    "import numpy as np\n",
    "\n",
    "kernel = np.ones((3,3), dtype=np.uint8)\n",
    "# kernel\n",
    "\n",
    "img = cv2.imread('./data/erode.png', cv2.IMREAD_GRAYSCALE)\n",
    "erode1 = cv2.erode(img, kernel, iterations=1) # 반복횟수\n",
    "erode2 = cv2.erode(img, kernel, iterations=2)\n",
    "erode3 = cv2.erode(img, kernel, iterations=3)\n",
    "\n",
    "cv2.imshow('gray', img)\n",
    "cv2.imshow('erode1', erode1)\n",
    "cv2.imshow('erode2', erode2)\n",
    "cv2.imshow('erode3', erode3)\n",
    "cv2.waitKey(0)\n",
    "cv2.destroyAllWindows()"
   ]
  },
  {
   "cell_type": "markdown",
   "id": "d3444a7b-4e3d-43ac-ba86-74b7ddb9b62e",
   "metadata": {},
   "source": [
    "## 열림(Opening)\n",
    "\n",
    "## 침식 후 팽창. 깎아서 노이즈 제거 후, 살 찌우기\n",
    "### dilate(erode(image))"
   ]
  },
  {
   "cell_type": "code",
   "execution_count": 1,
   "id": "c1e8018f-6edd-43d7-9351-b6f95ddfb55a",
   "metadata": {},
   "outputs": [],
   "source": [
    "import cv2\n",
    "import numpy as np\n",
    "\n",
    "kernel = np.ones((3,3), dtype=np.uint8) #uint8은 정수중 양수만\n",
    "# kernel\n",
    "\n",
    "img = cv2.imread('./data/erode.png', cv2.IMREAD_GRAYSCALE)\n",
    "\n",
    "erode = cv2.erode(img, kernel, iterations=3)\n",
    "dilate = cv2.dilate(erode, kernel, iterations=3)\n",
    "\n",
    "cv2.imshow('img', img)\n",
    "cv2.imshow('erode', erode)\n",
    "cv2.imshow('dilate', dilate)\n",
    "cv2.waitKey(0)\n",
    "cv2.destroyAllWindows()"
   ]
  },
  {
   "cell_type": "markdown",
   "id": "744bc30e-7d55-441e-ac6f-456c55d12108",
   "metadata": {},
   "source": [
    "## 닫힘(Closing)\n",
    "\n",
    "## 팽창 후 침식. 구멍을 메운 후 다시 깎음\n",
    "### erode(dilate(image))"
   ]
  },
  {
   "cell_type": "code",
   "execution_count": 1,
   "id": "3b081899-6183-4b12-9f9f-d600fec5e254",
   "metadata": {},
   "outputs": [],
   "source": [
    "import cv2\n",
    "import numpy as np\n",
    "\n",
    "kernel = np.ones((3,3), dtype=np.uint8) #uint8은 정수중 양수만\n",
    "# kernel\n",
    "\n",
    "img = cv2.imread('./data/dilate.png', cv2.IMREAD_GRAYSCALE)\n",
    "\n",
    "dilate = cv2.dilate(img, kernel, iterations=3)\n",
    "erode = cv2.erode(dilate, kernel, iterations=3)\n",
    "\n",
    "cv2.imshow('img', img)\n",
    "cv2.imshow('dilate', dilate)\n",
    "cv2.imshow('erode', erode)\n",
    "cv2.waitKey(0)\n",
    "cv2.destroyAllWindows()"
   ]
  }
 ],
 "metadata": {
  "kernelspec": {
   "display_name": "cv",
   "language": "python",
   "name": "cv"
  },
  "language_info": {
   "codemirror_mode": {
    "name": "ipython",
    "version": 3
   },
   "file_extension": ".py",
   "mimetype": "text/x-python",
   "name": "python",
   "nbconvert_exporter": "python",
   "pygments_lexer": "ipython3",
   "version": "3.8.17"
  }
 },
 "nbformat": 4,
 "nbformat_minor": 5
}
