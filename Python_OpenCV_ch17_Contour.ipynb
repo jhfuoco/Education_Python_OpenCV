{
 "cells": [
  {
   "cell_type": "markdown",
   "id": "e4621a62-a508-4c74-86ea-14526eac3d4c",
   "metadata": {},
   "source": [
    "# 17. 윤곽선(Contour) : 경계선을 연결한 선"
   ]
  },
  {
   "cell_type": "markdown",
   "id": "3ea50dad-6dea-4f7c-a104-c4fce23928f1",
   "metadata": {},
   "source": [
    "```python\n",
    "# 이미지에서 Contour들을 찾는 함수\n",
    "# - mode : Contour들을 찾는 방법\n",
    "#   RETR_EXTERNAL : 바깥쪽 Line만 찾기\n",
    "#   RETR_LIST : 모든 Line을 찾지만, Hierarchy 구성 X\n",
    "#   RETR_TREE : 모든 Line을 찾으며, 모든 Hierarchy 구성 O\n",
    "# - method : Contour들을 찾는 근사치 방법\n",
    "#   CHAIN_APPROX_NONE : 모든 Contour 포인트 저장\n",
    "#   CHAIN_APPROX_SIMPLE : Contour Line을 그릴 수 있는 포인트만 저장\n",
    "cv2.findContours(image, mode, method):\n",
    "\n",
    "# 입력 이미지 Gray Scale Threshold 전처리 과정 필요\n",
    "\n",
    "# Contour들을 그리는 함수\n",
    "# - contour_index : 그리고자 하는 Contours Line(전체: -1) / ex: 0을 입력하면 찾은 Contour중 가장 첫번째만 그림\n",
    "# - color: 박스 색상\n",
    "# cv2.drawContours(image, contours, contour_index, color, thickness):\n",
    "```\n",
    "\n",
    "\n",
    "\n",
    "\n",
    "\n",
    "\n",
    "\n",
    "\n",
    "\n",
    "\n"
   ]
  },
  {
   "cell_type": "code",
   "execution_count": 1,
   "id": "d529d7c0-a746-4953-8af6-4b7b98b78f82",
   "metadata": {},
   "outputs": [],
   "source": [
    "import cv2\n",
    "img = cv2.imread(\"./data/card.png\")\n",
    "target_img = img.copy()\n",
    "\n",
    "gray = cv2.cvtColor(target_img, cv2.COLOR_BGR2GRAY)\n",
    "ret, otsu = cv2.threshold(gray, -1, 255, cv2.THRESH_BINARY | cv2.THRESH_OTSU)\n",
    "\n",
    "contours, hierarchy = cv2.findContours(otsu, cv2.RETR_LIST, cv2.CHAIN_APPROX_NONE) #윤곽선 따기\n",
    "# 윤곽선 정보, 계층구조\n",
    "# 이미지, 윤곽선 찾는 모드 : CHAIN_APPROX_NONE\n",
    "\n",
    "\n",
    "COLOR = (0,200,0) #녹색\n",
    "cv2.drawContours(target_img, contours, -1, COLOR, 2) # 칠해주세요\n",
    "# 이미지, 윤곽선정보, 인덱스(-1이면 전체), 색깔, 두께\n",
    "\n",
    "cv2.imshow(\"img\", img)\n",
    "cv2.imshow(\"gray\", gray)\n",
    "cv2.imshow(\"otsu\", otsu)\n",
    "cv2.imshow(\"contour\", target_img)\n",
    "\n",
    "cv2.waitKey(0)\n",
    "cv2.destroyAllWindows()"
   ]
  },
  {
   "cell_type": "markdown",
   "id": "d4f4890b-b062-42e5-be0b-cbf4880e506e",
   "metadata": {},
   "source": [
    "## 경계 사각형\n",
    "윤곽선의 경계면을 둘러싸는 사각형\n",
    "> boundingRect()"
   ]
  },
  {
   "cell_type": "code",
   "execution_count": 1,
   "id": "d2bfb6a8-e0a4-4227-8446-fb232d9ed65f",
   "metadata": {},
   "outputs": [],
   "source": [
    "import cv2\n",
    "img = cv2.imread(\"./data/card.png\")\n",
    "target_img = img.copy()\n",
    "\n",
    "gray = cv2.cvtColor(target_img, cv2.COLOR_BGR2GRAY)\n",
    "ret, otsu = cv2.threshold(gray, -1, 255, cv2.THRESH_BINARY | cv2.THRESH_OTSU)\n",
    "\n",
    "contours, hierarchy = cv2.findContours(otsu, cv2.RETR_LIST, cv2.CHAIN_APPROX_NONE) #윤곽선 따기\n",
    "# 윤곽선 정보, 계층구조\n",
    "# 이미지, 윤곽선 찾는 모드 : CHAIN_APPROX_NONE\n",
    "\n",
    "\n",
    "COLOR = (0,200,0) #녹색\n",
    "\n",
    "for cnt in contours:\n",
    "    x, y, width, height = cv2.boundingRect(cnt)\n",
    "    cv2.rectangle(target_img, (x,y), (x+width, y+height), COLOR, 2)\n",
    "\n",
    "cv2.imshow(\"img\", img)\n",
    "cv2.imshow(\"gray\", gray)\n",
    "cv2.imshow(\"otsu\", otsu)\n",
    "cv2.imshow(\"contour\", target_img)\n",
    "\n",
    "cv2.waitKey(0)\n",
    "cv2.destroyAllWindows()"
   ]
  },
  {
   "cell_type": "markdown",
   "id": "2f560c2d-4c40-4182-ad40-e036a1c03367",
   "metadata": {},
   "source": [
    "## 면적\n",
    "## contourArea()"
   ]
  },
  {
   "cell_type": "code",
   "execution_count": 4,
   "id": "c79f0873-3da6-4314-a1f3-7203880f1ea5",
   "metadata": {},
   "outputs": [],
   "source": [
    "import cv2\n",
    "img = cv2.imread(\"./data/card.png\")\n",
    "target_img = img.copy()\n",
    "\n",
    "gray = cv2.cvtColor(target_img, cv2.COLOR_BGR2GRAY)\n",
    "ret, otsu = cv2.threshold(gray, -1, 255, cv2.THRESH_BINARY | cv2.THRESH_OTSU)\n",
    "\n",
    "contours, hierarchy = cv2.findContours(otsu, cv2.RETR_LIST, cv2.CHAIN_APPROX_NONE) #윤곽선 따기\n",
    "# 윤곽선 정보, 계층구조\n",
    "# 이미지, 윤곽선 찾는 모드 : CHAIN_APPROX_NONE\n",
    "\n",
    "\n",
    "COLOR = (0,200,0) #녹색\n",
    "\n",
    "for cnt in contours:\n",
    "    if cv2.contourArea(cnt) > 25000:\n",
    "        x, y, width, height = cv2.boundingRect(cnt)\n",
    "        cv2.rectangle(target_img, (x,y), (x+width, y+height), COLOR, 2)\n",
    "\n",
    "cv2.imshow(\"img\", img)\n",
    "cv2.imshow(\"gray\", gray)\n",
    "cv2.imshow(\"otsu\", otsu)\n",
    "cv2.imshow(\"contour\", target_img)\n",
    "\n",
    "cv2.waitKey(0)\n",
    "cv2.destroyAllWindows()"
   ]
  },
  {
   "cell_type": "markdown",
   "id": "44f76ff7-8cfe-4144-a267-1eb6bed90758",
   "metadata": {},
   "source": [
    "## 과제 : 면적에 의해 만들어진 사각형, 각각 잘라서 저장하기\n",
    "- 힌트 이미지자르기, 파일저장\n"
   ]
  },
  {
   "cell_type": "markdown",
   "id": "c1c872b6-3bf7-42d9-87a5-e17b4efb2a0e",
   "metadata": {},
   "source": [
    "## 과제 : digit_image.png 윤곽선 자르기\n",
    "에지검출,\n",
    "OCR"
   ]
  }
 ],
 "metadata": {
  "kernelspec": {
   "display_name": "cv",
   "language": "python",
   "name": "cv"
  },
  "language_info": {
   "codemirror_mode": {
    "name": "ipython",
    "version": 3
   },
   "file_extension": ".py",
   "mimetype": "text/x-python",
   "name": "python",
   "nbconvert_exporter": "python",
   "pygments_lexer": "ipython3",
   "version": "3.8.17"
  }
 },
 "nbformat": 4,
 "nbformat_minor": 5
}
