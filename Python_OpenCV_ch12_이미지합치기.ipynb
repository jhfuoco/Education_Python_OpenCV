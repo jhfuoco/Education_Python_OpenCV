{
 "cells": [
  {
   "cell_type": "markdown",
   "id": "32d00e81-c77a-41b1-b797-9aedc78e0838",
   "metadata": {},
   "source": [
    "# 12. 이미지 합치기"
   ]
  },
  {
   "cell_type": "raw",
   "id": "8ed4a926-83ad-4376-bb03-0460185a7b36",
   "metadata": {},
   "source": [
    "이미지 2장을 겹처서 1장으로 합치기"
   ]
  },
  {
   "cell_type": "raw",
   "id": "c65d454f-97f6-458a-b59e-c48e8b948492",
   "metadata": {},
   "source": [
    "이미지를 합치는 두 가지 방법\n",
    "1. cv2.add() : Saturation 연산을 수행,\n",
    "    0보다 작으면 0, 255보다 크면 255로 표현\n",
    "2. np.add() : Modulo(나눠서 나머지 사용) 연산을 수행, 256은 0, 257은 1로 표현(잘 사용 안함)"
   ]
  },
  {
   "cell_type": "code",
   "execution_count": 1,
   "id": "e9b689d8-21f0-415c-9e10-c45b08d4fdd2",
   "metadata": {},
   "outputs": [],
   "source": [
    "import cv2\n",
    "\n",
    "image_1 = cv2.imread(\"./data/image_1.jpg\")\n",
    "image_2 = cv2.imread(\"./data/image_2.png\")\n",
    "\n",
    "# OpenCV\n",
    "result = cv2.add(image_1, image_2)\n",
    "cv2.imshow(\"cv2\", cv2.cvtColor(result, cv2.COLOR_BGR2RGB))\n",
    "cv2.waitKey(0)\n",
    "cv2.destroyAllWindows()"
   ]
  },
  {
   "cell_type": "code",
   "execution_count": 1,
   "id": "f6ca1b9e-35e8-41fb-9f7c-fa5defa2893b",
   "metadata": {},
   "outputs": [],
   "source": [
    "import cv2\n",
    "\n",
    "image_1 = cv2.imread(\"./data/image_1.jpg\")\n",
    "image_2 = cv2.imread(\"./data/image_2.png\")\n",
    "\n",
    "# Numpy\n",
    "result = image_1 + image_2\n",
    "cv2.imshow(\"cv2\", cv2.cvtColor(result, cv2.COLOR_BGR2RGB))\n",
    "cv2.waitKey(0)\n",
    "cv2.destroyAllWindows()"
   ]
  }
 ],
 "metadata": {
  "kernelspec": {
   "display_name": "cv",
   "language": "python",
   "name": "cv"
  },
  "language_info": {
   "codemirror_mode": {
    "name": "ipython",
    "version": 3
   },
   "file_extension": ".py",
   "mimetype": "text/x-python",
   "name": "python",
   "nbconvert_exporter": "python",
   "pygments_lexer": "ipython3",
   "version": "3.8.17"
  }
 },
 "nbformat": 4,
 "nbformat_minor": 5
}
