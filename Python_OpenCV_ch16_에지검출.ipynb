{
 "cells": [
  {
   "cell_type": "markdown",
   "id": "6419827e-bac9-40eb-88d3-0b3059c2e653",
   "metadata": {},
   "source": [
    "# 16. 에지(경계선)검출"
   ]
  },
  {
   "cell_type": "markdown",
   "id": "07e9f9b9-bddf-4786-8ed0-0a592eddb4a2",
   "metadata": {},
   "source": [
    "- 에지검출 알고리즘 : 물체 내부는 명암이 서서히 변하고 물체 경계는 명암이 급격히 변하는 특성을 활용\n",
    "- 어두운 영역에서 갑자기 밝아지거나, 밝은 영역에서 급격히 어두워지는 부분(객체와 배경의 경계, 객체와 다른 객체의 경계에서 에지 발생)\n",
    "- 에지 검출을 객체 윤곽을 알아내고, 객체를 판별하기 위한 전처리로 많이 사용 "
   ]
  },
  {
   "cell_type": "markdown",
   "id": "56f5829d-e925-425c-b846-d1c75c1ead42",
   "metadata": {},
   "source": [
    "## Canny Edge Detection\n",
    "Canny Edge 검출기 수행과정\n",
    "\n",
    "1. 가우시안 필터링\n",
    " - 블러링을 통해 영상에 포함된 잡음을 제거하는 단계\n",
    " - 필터링을 통해 영상이 부드러워지면서, 에지의 세기도 함께 감소할 수 있기 때문에  \n",
    "    적절한 표준편차를 선택하여 수행 필요!\n",
    " - 잡음이 심한 경우 사용, 잡음이 심하지 않으면 생략 가능\n",
    "\n",
    "2. 그래디언트 계산\n",
    " - Canny Edge 검출기는 보통 3x3 소벨 마스크를 사용하여 그래디언트를 계산\n",
    " - 정확한 에지를 찾기 위해 가로, 세로 방향으로 각각 소벨 마스크 필터링 수행\n",
    " - 그라디언트 크기와 방향을 모두 계산\n",
    "\n",
    "3. 비최대 억제(Non-Maximum Suppression) = NMS\n",
    " - 에지가 두껍게 표현되는 현상을 방지하기 위해 비최대 억제 과정 사용\n",
    " - 단순히 그래디언트 크기가 특정 임계값보다 큰 픽셀을 선택하는 경우,  \n",
    "    에지 근방의 여러 픽셀이 한꺼번에 에지로 선택될 수 있음\n",
    " - 비최대 억제는 그래디언트 크기가 국지적 최대(local maximum)인 픽셀만을 에지 픽셀로 설정하는 기법\n",
    " - 결과적으로, 비최대 억제를 수행하여 가장 변화율이 큰 위치의 픽셀만 에지로 탐색\n",
    "\n",
    "\n",
    "\n",
    "\n",
    "\n",
    "\n",
    "\n",
    "\n",
    "\n",
    "\n",
    "\n"
   ]
  },
  {
   "cell_type": "code",
   "execution_count": 1,
   "id": "3267da6f-404e-4874-a0ab-27b9acc717e9",
   "metadata": {},
   "outputs": [],
   "source": [
    "import cv2\n",
    "img = cv2.imread(\"./data/snow.png\")\n",
    "\n",
    "# 이미지, minVal(하위 임계값), maxVal(상위 임계값), 트랙바 적용 가능\n",
    "canny = cv2.Canny(img, 150, 200)\n",
    "\n",
    "cv2.imshow(\"img\", img)\n",
    "cv2.imshow(\"canny\", canny)\n",
    "cv2.waitKey(0)\n",
    "cv2.destroyAllWindows()"
   ]
  }
 ],
 "metadata": {
  "kernelspec": {
   "display_name": "Python 3 (ipykernel)",
   "language": "python",
   "name": "python3"
  },
  "language_info": {
   "codemirror_mode": {
    "name": "ipython",
    "version": 3
   },
   "file_extension": ".py",
   "mimetype": "text/x-python",
   "name": "python",
   "nbconvert_exporter": "python",
   "pygments_lexer": "ipython3",
   "version": "3.8.17"
  }
 },
 "nbformat": 4,
 "nbformat_minor": 5
}
