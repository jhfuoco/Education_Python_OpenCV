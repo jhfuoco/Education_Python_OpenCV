{
 "cells": [
  {
   "cell_type": "markdown",
   "id": "ab5d22b1-35d0-438d-914e-d0f1cc207746",
   "metadata": {},
   "source": [
    "# 8. 이미지 자르기"
   ]
  },
  {
   "cell_type": "markdown",
   "id": "f47183e9-ff7b-4b01-ad9f-34aec7d88b24",
   "metadata": {},
   "source": [
    "## 영역을 잘라서 새로운 윈도우(창)에 표시"
   ]
  },
  {
   "cell_type": "code",
   "execution_count": 1,
   "id": "275332da-ef75-44ae-ba4d-d86ebc1da646",
   "metadata": {},
   "outputs": [
    {
     "name": "stdout",
     "output_type": "stream",
     "text": [
      "(390, 640, 3)\n",
      "(290, 400, 3)\n"
     ]
    }
   ],
   "source": [
    "import cv2\n",
    "\n",
    "img =  cv2.imread('./data/panda.jpg')\n",
    "print(img.shape)\n",
    "crop = img[100:500, 200:600]\n",
    "print(crop.shape)\n",
    "\n",
    "cv2.imshow(\"img\",img)\n",
    "cv2.imshow(\"crop\",crop)\n",
    "cv2.waitKey(0)\n",
    "cv2.destroyAllWindows()"
   ]
  },
  {
   "cell_type": "markdown",
   "id": "60dd20fd-d049-4360-aa82-6a24b999e145",
   "metadata": {},
   "source": [
    "## 영역을 잘라서 기존 윈도우에 표시"
   ]
  },
  {
   "cell_type": "code",
   "execution_count": 1,
   "id": "185b5274-94fc-4f04-8d46-531dcd951638",
   "metadata": {},
   "outputs": [
    {
     "name": "stdout",
     "output_type": "stream",
     "text": [
      "(390, 640, 3)\n"
     ]
    }
   ],
   "source": [
    "import cv2\n",
    "\n",
    "img =  cv2.imread('./data/panda.jpg')\n",
    "print(img.shape)\n",
    "crop = img[100:500, 200:600]\n",
    "img[100:500, 100:500] = crop\n",
    "\n",
    "cv2.imshow(\"img\",img)\n",
    "cv2.waitKey(0)\n",
    "cv2.destroyAllWindows()"
   ]
  }
 ],
 "metadata": {
  "kernelspec": {
   "display_name": "Python 3 (ipykernel)",
   "language": "python",
   "name": "python3"
  },
  "language_info": {
   "codemirror_mode": {
    "name": "ipython",
    "version": 3
   },
   "file_extension": ".py",
   "mimetype": "text/x-python",
   "name": "python",
   "nbconvert_exporter": "python",
   "pygments_lexer": "ipython3",
   "version": "3.8.17"
  }
 },
 "nbformat": 4,
 "nbformat_minor": 5
}
