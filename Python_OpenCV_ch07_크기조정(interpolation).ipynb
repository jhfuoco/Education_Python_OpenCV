{
 "cells": [
  {
   "cell_type": "markdown",
   "id": "cafad265-d2f3-4e3c-836b-a2bc553b1c68",
   "metadata": {},
   "source": [
    "# 7. 크기 조정"
   ]
  },
  {
   "cell_type": "markdown",
   "id": "5c3655ae-f967-42aa-b739-23c8be71953f",
   "metadata": {},
   "source": [
    "## 이미지"
   ]
  },
  {
   "cell_type": "markdown",
   "id": "1f11f05e-f6b0-452a-bfe0-8e8becbd8fa1",
   "metadata": {},
   "source": [
    "```python\n",
    "# 이미지 크기 조절하는 함수\n",
    "# - dsize : Manuel Size(이미지의 절대적인 크기), 비율 사용할 때는 None\n",
    "# - fx : 가로 비율\n",
    "# - fy : 세로 비율\n",
    "# - interpolation : 보간법 / INTER_CUBIC(사이즈 확대) / INTER_AREA(사이즈 축소)\n",
    "\n",
    "cv2.resize(image, dsize, fx, fy, interpolation)\n",
    "```\n",
    "\n"
   ]
  },
  {
   "cell_type": "markdown",
   "id": "7ed365b8-817e-4ec0-9e91-59e1b62fc68e",
   "metadata": {},
   "source": [
    "## 고정크기로 설정"
   ]
  },
  {
   "cell_type": "code",
   "execution_count": 1,
   "id": "fd7b9ef8-3207-492c-b772-1660859fa792",
   "metadata": {},
   "outputs": [],
   "source": [
    "import cv2\n",
    "img = cv2.imread('./data/panda.jpg')\n",
    "dst = cv2.resize(img, (400,500)) # width, height 고정크기\n",
    "\n",
    "cv2.imshow('img',img)\n",
    "cv2.imshow('resize',dst)\n",
    "cv2.waitKey(0)\n",
    "cv2.destroyAllWindows()"
   ]
  },
  {
   "cell_type": "markdown",
   "id": "bd45118f-18d5-4004-b1f5-8b03de813c79",
   "metadata": {},
   "source": [
    "## 비율로 설정"
   ]
  },
  {
   "cell_type": "code",
   "execution_count": 1,
   "id": "df3c173b-4efa-4459-8dcc-f3fa6a16e863",
   "metadata": {},
   "outputs": [],
   "source": [
    "import cv2\n",
    "img = cv2.imread('./data/panda.jpg')\n",
    "dst = cv2.resize(img, None, fx=0.5, fy=0.5) # fx, fy 비율\n",
    "\n",
    "cv2.imshow('img',img)\n",
    "cv2.imshow('resize',dst)\n",
    "cv2.waitKey(0)\n",
    "cv2.destroyAllWindows()"
   ]
  },
  {
   "cell_type": "markdown",
   "id": "cf15d763-10c8-4955-9b06-b460eb78d68e",
   "metadata": {},
   "source": [
    "보간법(interpolation) : 사이즈가 변할때, 픽셀 사이의 값을 조절하는 방법을 의미\n",
    "\n",
    "- A픽셀과 B픽셀 사이를 늘리려고 했을 때\n",
    "- 중간값으로 채울 수도 있고\n",
    "- 어떤 분포를 넣어서 채울 수도 있음\n",
    "\n",
    "\n",
    "1. cv2.INTER_AREA : 크기 줄일때 사용\n",
    "2. cv2.INTER_CUBIC : 크기 늘릴때 사용(속도 느림, 퀄리티 좋음)\n",
    "3. cv2.INTER_LINEAR : 크기 늘릴때 사용(기본값)\n"
   ]
  },
  {
   "cell_type": "markdown",
   "id": "91628a0e-c5d4-4b5b-bba5-cd7a4cb8d54f",
   "metadata": {},
   "source": [
    "딥러닝 모델에서 입력으로 이미지 또는 영상을 사용할때  \n",
    "고정적인 크기를 사용해야함  \n",
    "-> 데이터를 항상 고정크기로 전처리해서 사용  \n",
    "    (resize() + interpolation)\n",
    "\n"
   ]
  },
  {
   "cell_type": "code",
   "execution_count": 1,
   "id": "901decd5-1d0d-4097-8743-649fba62d2ff",
   "metadata": {},
   "outputs": [],
   "source": [
    "import cv2\n",
    "img = cv2.imread('./data/panda.jpg')\n",
    "dst = cv2.resize(img, None, fx=1.5, fy=1.5, interpolation=cv2.INTER_CUBIC)\n",
    "\n",
    "cv2.imshow('img',img)\n",
    "cv2.imshow('resize',dst)\n",
    "cv2.waitKey(0)\n",
    "cv2.destroyAllWindows()"
   ]
  },
  {
   "cell_type": "markdown",
   "id": "59b96fcc-5532-4dc6-b856-448dbc723848",
   "metadata": {},
   "source": [
    "## 동영상"
   ]
  },
  {
   "cell_type": "markdown",
   "id": "ca8d3040-8a2f-4a91-b6e4-14e30a5cde9f",
   "metadata": {},
   "source": [
    "### 비율로 설정"
   ]
  },
  {
   "cell_type": "code",
   "execution_count": 1,
   "id": "5fdc76d5-e4bf-4aff-8c94-2a6029ddce97",
   "metadata": {},
   "outputs": [],
   "source": [
    "import cv2\n",
    "cap = cv2.VideoCapture(\"./data/playground.mp4\")\n",
    "\n",
    "while cap.isOpened():\n",
    "    ret, frame = cap.read()\n",
    "    if not ret:\n",
    "        break\n",
    "\n",
    "    frame_resized = cv2.resize(frame, None, fx=1.5, fy=1.5, interpolation=cv2.INTER_CUBIC)\n",
    "    cv2.imshow(\"video\", frame_resized)\n",
    "    if cv2.waitKey(1) == ord(\"q\"):\n",
    "        break\n",
    "\n",
    "cap.release()\n",
    "cv2.destroyAllWindows()"
   ]
  }
 ],
 "metadata": {
  "kernelspec": {
   "display_name": "Python 3 (ipykernel)",
   "language": "python",
   "name": "python3"
  },
  "language_info": {
   "codemirror_mode": {
    "name": "ipython",
    "version": 3
   },
   "file_extension": ".py",
   "mimetype": "text/x-python",
   "name": "python",
   "nbconvert_exporter": "python",
   "pygments_lexer": "ipython3",
   "version": "3.10.9"
  }
 },
 "nbformat": 4,
 "nbformat_minor": 5
}
