{
 "cells": [
  {
   "cell_type": "markdown",
   "id": "d448f9e3-6946-46d8-834b-b0a3378ca689",
   "metadata": {},
   "source": [
    "# Mediapipe의 BlazeFace를 활용한 얼굴검출\n",
    "\n",
    "미디어파이프는 구글에서 인체를 대상으로 하는 인식에 대한  \n",
    "다양한 형태로 기능과 모델까지 제공하는 서비스\n",
    "\n",
    "- 6개의 얼굴 랜드마크(왼쪽눈, 오른쪽눈, 코끝, 왼쪽귀 이주 및 오른쪽 귀이주) 사용\n",
    "- python -m pip install mediapipe(설치 안되는 경우 pip 업그레이드)"
   ]
  },
  {
   "cell_type": "markdown",
   "id": "eae31468-5418-4f84-9453-3cc586db4ab3",
   "metadata": {},
   "source": [
    "BlazeFace(단거리)\n",
    " - 스마트폰 카메라 또는 웹캠의 셀카와 같은 이미지 내에서  \n",
    "    단일 또는 여러 얼굴을 감지하기 위한 경량 모델\n",
    " - 해당 모델은 단거리의 전면 휴대폰 카메라 이미지에 최적화\n",
    " - 128x128\n",
    " - float16 사용"
   ]
  },
  {
   "cell_type": "code",
   "execution_count": 1,
   "id": "d025a1c6-9248-4807-9c37-0d186b58bf79",
   "metadata": {},
   "outputs": [
    {
     "name": "stderr",
     "output_type": "stream",
     "text": [
      "INFO: Created TensorFlow Lite XNNPACK delegate for CPU.\n"
     ]
    },
    {
     "ename": "KeyboardInterrupt",
     "evalue": "",
     "output_type": "error",
     "traceback": [
      "\u001b[0;31m---------------------------------------------------------------------------\u001b[0m",
      "\u001b[0;31mKeyboardInterrupt\u001b[0m                         Traceback (most recent call last)",
      "Cell \u001b[0;32mIn[1], line 21\u001b[0m\n\u001b[1;32m     18\u001b[0m cap \u001b[38;5;241m=\u001b[39m cv2\u001b[38;5;241m.\u001b[39mVideoCapture(\u001b[38;5;241m0\u001b[39m)\n\u001b[1;32m     20\u001b[0m \u001b[38;5;28;01mwhile\u001b[39;00m \u001b[38;5;28;01mTrue\u001b[39;00m:\n\u001b[0;32m---> 21\u001b[0m     ret, frame \u001b[38;5;241m=\u001b[39m \u001b[43mcap\u001b[49m\u001b[38;5;241;43m.\u001b[39;49m\u001b[43mread\u001b[49m\u001b[43m(\u001b[49m\u001b[43m)\u001b[49m\n\u001b[1;32m     23\u001b[0m     \u001b[38;5;28;01mif\u001b[39;00m \u001b[38;5;129;01mnot\u001b[39;00m ret: \u001b[38;5;66;03m#ret은 인덱스\u001b[39;00m\n\u001b[1;32m     24\u001b[0m         \u001b[38;5;28mprint\u001b[39m(\u001b[38;5;124m\"\u001b[39m\u001b[38;5;124m영상 출력 불가\u001b[39m\u001b[38;5;124m\"\u001b[39m)\n",
      "\u001b[0;31mKeyboardInterrupt\u001b[0m: "
     ]
    }
   ],
   "source": [
    "import cv2\n",
    "import mediapipe as mp\n",
    "\n",
    "mp_fact_detection = mp.solutions.face_detection\n",
    "mp_drawing = mp.solutions.drawing_utils\n",
    "\n",
    "# model_selections:\n",
    "# - 0: 카메라 2m 이내 부분적 모델 촬영에 적합(기본값)\n",
    "# - 1: 5m 이내에서 전신 모델을 촬영하는데 적합\n",
    "\n",
    "# min_detection_confidence(최소 감지 신뢰값)\n",
    "# - 검출에 성공한 것으로 간주할 얼굴의 검출 모델 신뢰값\n",
    "# - 0.0 ~ 1.0 / 기본값: 0.5\n",
    "\n",
    "\n",
    "face_detection = mp_fact_detection.FaceDetection(model_selection=1, min_detection_confidence=0.5)\n",
    "\n",
    "cap = cv2.VideoCapture(0)\n",
    "\n",
    "while True:\n",
    "    ret, frame = cap.read()\n",
    "\n",
    "    if not ret: #ret은 인덱스\n",
    "        print(\"영상 출력 불가\")\n",
    "        break\n",
    "    res = face_detection.process(cv2.cvtColor(frame, cv2.COLOR_BGR2RGB))\n",
    "\n",
    "    if res.detections: #얼굴 검출이 된 경우\n",
    "        for detection in res.detections: #이미지출력 + 얼굴박스그림\n",
    "            mp_drawing.draw_detection(frame, detection)\n",
    "\n",
    "    cv2.imshow(\"MediaPipe Face Detection from Video\", cv2.flip(frame, 1))\n",
    "    #cv2.flip() : 그림반전 / 1: 좌우반전, 0: 상하반전\n",
    "\n",
    "    if cv2.waitKey(5) == ord(\"q\"):\n",
    "        break\n",
    "\n",
    "cap.release()\n",
    "cv2.destroyAllWindows()"
   ]
  }
 ],
 "metadata": {
  "kernelspec": {
   "display_name": "cv",
   "language": "python",
   "name": "cv"
  },
  "language_info": {
   "codemirror_mode": {
    "name": "ipython",
    "version": 3
   },
   "file_extension": ".py",
   "mimetype": "text/x-python",
   "name": "python",
   "nbconvert_exporter": "python",
   "pygments_lexer": "ipython3",
   "version": "3.8.17"
  }
 },
 "nbformat": 4,
 "nbformat_minor": 5
}
