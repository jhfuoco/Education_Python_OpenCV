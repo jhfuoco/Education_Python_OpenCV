{
 "cells": [
  {
   "cell_type": "markdown",
   "id": "65f3132b-b13f-478b-a9e3-1e795e025d4b",
   "metadata": {},
   "source": [
    "# 6. 파일저장"
   ]
  },
  {
   "cell_type": "markdown",
   "id": "ca05880b-7376-4c83-b002-9e4ae6ebea60",
   "metadata": {},
   "source": [
    "이미지 저장\n",
    "\n",
    "```python\n",
    "# 특정한 이미지를 파일로 저장하는 함수\n",
    "# - file_name : 저장할 이미지 경로 및 이름\n",
    "# - image : 저장할 이미지 객체\n",
    "\n",
    "cv2.imwrite(file_name, image)\n",
    "```\n",
    "\n",
    "\n"
   ]
  },
  {
   "cell_type": "code",
   "execution_count": 1,
   "id": "fcc99f0e-13dc-4e6e-92e2-52f9e3bf04f5",
   "metadata": {},
   "outputs": [
    {
     "name": "stdout",
     "output_type": "stream",
     "text": [
      "True\n"
     ]
    }
   ],
   "source": [
    "import cv2\n",
    "img = cv2.imread('./data/panda.jpg', cv2.IMREAD_GRAYSCALE)\n",
    "\n",
    "cv2.imshow('img', img)\n",
    "cv2.waitKey(0)\n",
    "cv2.destroyAllWindows()\n",
    "\n",
    "result = cv2.imwrite(\"panda_save.jpg\", img)\n",
    "print(result)"
   ]
  },
  {
   "cell_type": "raw",
   "id": "4e3c289b-be50-4d6d-a4bb-b6900467b565",
   "metadata": {},
   "source": [
    "원본 : 사진, 영상\n",
    "\n",
    "전처리 : 사진+, 영상+\n",
    "\n",
    "원본데이터는 절대 건드리면 안됨!\n",
    "\n",
    "1. 원본\n",
    "2.\n",
    "3.\n",
    "4. 에러 발생시! -> 다시 원본을 가져와야함!, 그래서 원본 손상 절대 안됨!\n",
    "5.\n",
    "\n",
    "img.copy() 방법 사용해야 함\n",
    "pre_img = img 이런 방법 지양\n",
    "\n"
   ]
  },
  {
   "cell_type": "markdown",
   "id": "4b3ba6b4-d603-42c9-9818-4b73283b7017",
   "metadata": {},
   "source": [
    "## 이미지 저장 포맷(jpg, png)"
   ]
  },
  {
   "cell_type": "code",
   "execution_count": 1,
   "id": "3ceed685-7b94-4d9e-89e5-5913f28d3683",
   "metadata": {},
   "outputs": [],
   "source": [
    "import cv2\n",
    "\n",
    "img = cv2.imread('./data/panda.jpg', cv2.IMREAD_GRAYSCALE)\n",
    "result = cv2.imwrite(\"panda_save.png\", img)\n",
    "#png 는 투명도를 포함하고 있음, 웹에서 주로 사용!"
   ]
  },
  {
   "cell_type": "markdown",
   "id": "58f03f93-633e-4892-9589-5984c037cdd4",
   "metadata": {},
   "source": [
    "동영상 저장\n",
    "```python\n",
    "# 영상을 파일로 저장하는 함수\n",
    "# - outputFile : 저장될 파일명\n",
    "# - fourcc : 코덱 정보 (os마다 상이함)\n",
    "# - frame : FPS(초당 저장될 프레임)\n",
    "# - size : 저장될 사이즈(가로 x 세로)\n",
    "\n",
    "cv2.VideoWriter(outputFile, fourcc, frame, size)\n",
    "```\n",
    "\n",
    "\n",
    "\n",
    "\n"
   ]
  },
  {
   "cell_type": "code",
   "execution_count": 2,
   "id": "9572f0fe-31f8-4893-9c02-7a97d9b1a805",
   "metadata": {},
   "outputs": [],
   "source": [
    "import cv2\n",
    "cap = cv2.VideoCapture(\"./data/playground.mp4\")\n",
    "\n",
    "fourcc = cv2.VideoWriter_fourcc(*'DIVX') # \"D\", \"I\", \"V\", \"X\"\n",
    "# 가변 매개변수\n",
    "# * 매개변수: list, tuple, set\n",
    "# ** 매개변수: dict(key,value)\n",
    "\n",
    "\n",
    "width = round(cap.get(cv2.CAP_PROP_FRAME_WIDTH))\n",
    "height = round(cap.get(cv2.CAP_PROP_FRAME_HEIGHT))\n",
    "fps = cap.get(cv2.CAP_PROP_FPS)\n",
    "\n",
    "out = cv2.VideoWriter(\"output.avi\", fourcc, fps, (width, height))\n",
    "\n",
    "while cap.isOpened():\n",
    "    ret, frame = cap.read()\n",
    "\n",
    "    if not ret:\n",
    "        break\n",
    "\n",
    "    out.write(frame)\n",
    "    cv2.imshow(\"video\", frame)\n",
    "    if cv2.waitKey(1) == ord(\"q\"):\n",
    "        break\n",
    "\n",
    "out.release()\n",
    "cap.release()\n",
    "cv2.destroyAllWindows()"
   ]
  }
 ],
 "metadata": {
  "kernelspec": {
   "display_name": "Python 3 (ipykernel)",
   "language": "python",
   "name": "python3"
  },
  "language_info": {
   "codemirror_mode": {
    "name": "ipython",
    "version": 3
   },
   "file_extension": ".py",
   "mimetype": "text/x-python",
   "name": "python",
   "nbconvert_exporter": "python",
   "pygments_lexer": "ipython3",
   "version": "3.8.17"
  }
 },
 "nbformat": 4,
 "nbformat_minor": 5
}
