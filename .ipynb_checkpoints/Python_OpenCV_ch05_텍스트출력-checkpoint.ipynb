{
 "cells": [
  {
   "cell_type": "markdown",
   "id": "79fd7faa-b64d-4ae7-9833-cfe65fa084b7",
   "metadata": {},
   "source": [
    "# 5. 텍스트"
   ]
  },
  {
   "cell_type": "markdown",
   "id": "64f52848-5457-40f3-b150-fa8c1a35f8eb",
   "metadata": {},
   "source": [
    "```python\n",
    "# 하나의 텍스트를 그리는 함수\n",
    "# - position : 텍스트가 출력될 위치\n",
    "# - font : 글씨체\n",
    "# - font_scale : 글씨 크기 가중치\n",
    "cv2.putText(image, text, position, font_type, font_scale, color)\n",
    "```\n",
    "\n",
    "글꼴 종류\n",
    "1. cv2.FONT_HERSHEY_SIMPLEX : 보통 크기의 산 세리프 글꼴\n",
    "2. cv2.FONT_HERSHEY_PLAIN : 작은 크기의 산 세리프 글꼴\n",
    "3. cv2.FONT_HERSHEY_SCRIPT_SIMPLEX : 필기체 스타일 글꼴\n",
    "4. cv2.FONT_HERSHEY_TRIPLEX : 보통 크기 세리프 글꼴\n",
    "5. cv2.FONT_ITALIC : 기울임\n"
   ]
  },
  {
   "cell_type": "raw",
   "id": "a8c11bbf-dd0c-4726-b548-9647536ba215",
   "metadata": {},
   "source": [
    "숙제 : 영어 -> 한글로 써보기\n",
    "힌트 : 한글텍스트를 만들어서 이미지로 만들어서 다시 불러오기"
   ]
  },
  {
   "cell_type": "code",
   "execution_count": null,
   "id": "28f08753-9ef5-4741-8088-cda5e7f5b387",
   "metadata": {},
   "outputs": [],
   "source": [
    "import numpy as np\n",
    "import cv2\n",
    "\n",
    "img = np.zeros((480,640,3),dtype=np.uint8)\n",
    "\n",
    "SCALE = 1\n",
    "COLOR = (255,255,255)\n",
    "THICKNESS = 1\n",
    "\n",
    "cv2.putText(img, \"Nado Simplex\", (20,50), cv2.FONT_HERSHEY_SIMPLEX, SCALE, COLOR)\n",
    "\n",
    "cv2.imshow(\"img\", img)\n",
    "cv2.waitKey(0)\n",
    "cv2.destroyAllWindows()"
   ]
  }
 ],
 "metadata": {
  "kernelspec": {
   "display_name": "Python 3 (ipykernel)",
   "language": "python",
   "name": "python3"
  },
  "language_info": {
   "codemirror_mode": {
    "name": "ipython",
    "version": 3
   },
   "file_extension": ".py",
   "mimetype": "text/x-python",
   "name": "python",
   "nbconvert_exporter": "python",
   "pygments_lexer": "ipython3",
   "version": "3.8.17"
  }
 },
 "nbformat": 4,
 "nbformat_minor": 5
}
