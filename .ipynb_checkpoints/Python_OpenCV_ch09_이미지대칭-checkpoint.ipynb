{
 "cells": [
  {
   "cell_type": "markdown",
   "id": "6f741067-2cad-4cc7-a1c1-81f20b1f42b3",
   "metadata": {},
   "source": [
    "# 9. 이미지 대칭"
   ]
  },
  {
   "cell_type": "raw",
   "id": "b629ae37-7c41-4f15-b1a1-eef71de03e67",
   "metadata": {},
   "source": [
    "flipCode > 0 : 좌우 대칭(Horizontal)\n",
    "flipCode == 0 : 상하 대칭(Vertical)\n",
    "flipCode < 0 : 상하좌우 대칭"
   ]
  },
  {
   "cell_type": "markdown",
   "id": "aea3b474-99fc-43eb-b065-fa0e0d192148",
   "metadata": {},
   "source": [
    "## 좌우 대칭"
   ]
  },
  {
   "cell_type": "code",
   "execution_count": 1,
   "id": "65026f7c-d1f3-42de-8124-a0bf9beb6c6d",
   "metadata": {},
   "outputs": [],
   "source": [
    "import cv2\n",
    "img = cv2.imread('./data/panda.jpg')\n",
    "flip_horizontal = cv2.flip(img, 1)\n",
    "\n",
    "cv2.imshow('img', img)\n",
    "cv2.imshow('flip_horizontal', flip_horizontal)\n",
    "cv2.waitKey(0)\n",
    "cv2.destroyAllWindows()"
   ]
  },
  {
   "cell_type": "markdown",
   "id": "25f5a1c3-16bf-4e43-86f1-2890bcc5d339",
   "metadata": {},
   "source": [
    "## 상하 대칭"
   ]
  },
  {
   "cell_type": "code",
   "execution_count": 2,
   "id": "953e81b6-e732-4189-842f-5adcc7b88c0b",
   "metadata": {},
   "outputs": [],
   "source": [
    "import cv2\n",
    "img = cv2.imread('./data/panda.jpg')\n",
    "flip_horizontal = cv2.flip(img, 0)\n",
    "\n",
    "cv2.imshow('img', img)\n",
    "cv2.imshow('flip_horizontal', flip_horizontal)\n",
    "cv2.waitKey(0)\n",
    "cv2.destroyAllWindows()"
   ]
  },
  {
   "cell_type": "markdown",
   "id": "26d37738-c38e-4ec6-9794-70d39fc02718",
   "metadata": {},
   "source": [
    "## 상하 좌우 대칭"
   ]
  },
  {
   "cell_type": "code",
   "execution_count": 1,
   "id": "de04f16a-8afa-4216-a620-b6bfe113058a",
   "metadata": {},
   "outputs": [],
   "source": [
    "import cv2\n",
    "img = cv2.imread('./data/panda.jpg')\n",
    "flip_horizontal = cv2.flip(img, -1)\n",
    "\n",
    "cv2.imshow('img', img)\n",
    "cv2.imshow('flip_horizontal', flip_horizontal)\n",
    "cv2.waitKey(0)\n",
    "cv2.destroyAllWindows()"
   ]
  }
 ],
 "metadata": {
  "kernelspec": {
   "display_name": "cv",
   "language": "python",
   "name": "cv"
  },
  "language_info": {
   "codemirror_mode": {
    "name": "ipython",
    "version": 3
   },
   "file_extension": ".py",
   "mimetype": "text/x-python",
   "name": "python",
   "nbconvert_exporter": "python",
   "pygments_lexer": "ipython3",
   "version": "3.8.17"
  }
 },
 "nbformat": 4,
 "nbformat_minor": 5
}
