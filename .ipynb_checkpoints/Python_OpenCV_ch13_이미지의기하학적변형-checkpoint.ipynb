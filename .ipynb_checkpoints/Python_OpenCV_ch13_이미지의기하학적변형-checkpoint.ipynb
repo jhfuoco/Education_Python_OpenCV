{
 "cells": [
  {
   "cell_type": "markdown",
   "id": "c5e7f905-cba2-4bbe-af8c-fc2a946b8390",
   "metadata": {},
   "source": [
    "# 13. 이미지의 기하학적 변형"
   ]
  },
  {
   "cell_type": "markdown",
   "id": "04663409-7384-4ada-9ab5-29a6f750b604",
   "metadata": {},
   "source": [
    "```python\n",
    "# 이미지 위치를 변경하는 함수\n",
    "# - M : 변환 행렬\n",
    "# - dsize : Manual Size\n",
    "cv2.warpAffine(image, M, dsize)\n",
    "```"
   ]
  },
  {
   "cell_type": "markdown",
   "id": "77ebc781-89f7-44f1-b6b7-255faa34678c",
   "metadata": {},
   "source": [
    "이미지 위치(Translation)"
   ]
  },
  {
   "cell_type": "code",
   "execution_count": 1,
   "id": "542ad752-4bb8-4188-8829-614ce96b7a21",
   "metadata": {},
   "outputs": [],
   "source": [
    "import cv2\n",
    "import numpy as np\n",
    "img = cv2.imread(\"./data/panda.jpg\")\n",
    "height, width = img.shape[:2] #(세로,가로,채널)\n",
    "\n",
    "M = np.float32([[1,0,100], [0,1,50]]) # 가로로 100만큼, 세로로 50만큼\n",
    "\n",
    "dst = cv2.warpAffine(img, M, (width, height))\n",
    "cv2.imshow(\"Original\", img)\n",
    "cv2.imshow(\"Translation\", dst)\n",
    "\n",
    "cv2.waitKey(0)\n",
    "cv2.destroyAllWindows()"
   ]
  },
  {
   "cell_type": "markdown",
   "id": "f3e2166e-608c-4d15-a251-cf8a87757b41",
   "metadata": {},
   "source": [
    "Affine Transformation\n",
    "\n",
    "- 선의 평행성은 유지가 되면서 이미지를 변환하는 작업\n",
    "- 이동, 확대, Scale, 반전까지 포함된 변환\n",
    "- Affine 변환을 위해서는 3개의 Match가 되는 점이 있으면 변환행렬 계산 가능"
   ]
  },
  {
   "cell_type": "code",
   "execution_count": 2,
   "id": "ab87e78c-c44d-4db0-8bf1-d5f64aea5738",
   "metadata": {},
   "outputs": [],
   "source": [
    "import cv2\n",
    "import numpy as np\n",
    "\n",
    "img = cv2.imread(\"./data/panda.jpg\")\n",
    "rows, cols, ch = img.shape\n",
    "\n",
    "pts1 = np.float32([[200, 100], [400, 100], [200, 200]])\n",
    "pts2 = np.float32([[200, 300], [400, 200], [200, 400]])\n",
    "\n",
    "cv2.circle(img, (200, 100), 10, (255, 0, 0), -1)\n",
    "cv2.circle(img, (400, 100), 10, (0, 255, 0), -1)\n",
    "cv2.circle(img, (200, 200), 10, (0, 0, 255), -1)\n",
    "\n",
    "M = cv2.getAffineTransform(pts1, pts2) #pts1을 pts2로 바꿔라\n",
    "\n",
    "dst = cv2.warpAffine(img, M, (cols, rows))\n",
    "\n",
    "cv2.imshow(\"Original\", img)\n",
    "cv2.imshow(\"dst\", dst)\n",
    "\n",
    "cv2.waitKey(0)\n",
    "cv2.destroyAllWindows()"
   ]
  },
  {
   "cell_type": "markdown",
   "id": "542fc03d-2522-4a4d-ae1d-c35b9a62fef8",
   "metadata": {},
   "source": [
    "Perspective(원근법)\n",
    "\n",
    "- 직선의 성질만 유지가 되고, 선의 평행성은 유지가 되지 않는 변환\n",
    "- 기차길은 서로 평행하지만, 원근변환을 거치면 평행성은 유지되지 못하고  \n",
    "    하나의 점에서 만나는 것처럼 보임\n",
    "- 3차원 공간에 있는 물체를 2차원 평면에 올려놓은 느낌\n",
    "- 4개의 Point, input값과 이동할 Output 값 필요"
   ]
  },
  {
   "cell_type": "code",
   "execution_count": 1,
   "id": "c0cbe64e-9924-45f9-99f8-839cf396a179",
   "metadata": {},
   "outputs": [],
   "source": [
    "import cv2\n",
    "import numpy as np\n",
    "\n",
    "img = cv2.imread(\"./data/rail.jpg\")\n",
    "\n",
    "# 좌표점 (좌상, 좌하, 우상, 우하)\n",
    "pts1 = np.float32([[640,4],[640,52],[865,4],[900,52]])\n",
    "# 이동할 좌표점\n",
    "pts2 = np.float32([[10,10],[10,310],[310,10],[310,310]])\n",
    "\n",
    "cv2.circle(img, (640,4), 10, (255,0,0), -1)\n",
    "cv2.circle(img, (640,52), 10, (0,255,0), -1)\n",
    "cv2.circle(img, (865,4), 10, (0,0,255), -1)\n",
    "cv2.circle(img, (900,52), 10, (255,255,255), -1)\n",
    "\n",
    "M = cv2.getPerspectiveTransform(pts1, pts2) #행렬수식을 만드는 과정, 어떻게 변환할건지\n",
    "dst = cv2.warpPerspective(img, M, (310,310))\n",
    "\n",
    "cv2.imshow(\"Original\", img)\n",
    "cv2.imshow(\"dst\", dst)\n",
    "\n",
    "cv2.waitKey(0)\n",
    "cv2.destroyAllWindows()"
   ]
  },
  {
   "cell_type": "markdown",
   "id": "2e63ea94-8142-4af6-9e96-0f07b8f07d3b",
   "metadata": {},
   "source": [
    "이미지 때서 펴기  \n",
    "640x240으로 표현"
   ]
  },
  {
   "cell_type": "code",
   "execution_count": 1,
   "id": "ff371743-68d5-4e80-8edd-d16c20576b46",
   "metadata": {},
   "outputs": [],
   "source": [
    "import cv2\n",
    "import numpy as np\n",
    "\n",
    "img = cv2.imread(\"./data/newspaper.jpg\")\n",
    "\n",
    "height=640\n",
    "width=240\n",
    "\n",
    "# 좌표점\n",
    "pts1 = np.float32([[500, 360], [450, 580], [1010, 350], [1125, 590]])\n",
    "# 이동할 좌표점\n",
    "pts2 = np.float32([[10, 10], [10, width], [height, 10], [height, width]])\n",
    "\n",
    "cv2.circle(img, (500,360), 10, (255,0,0), -1)\n",
    "cv2.circle(img, (450,580), 10, (0,255,0), -1)\n",
    "cv2.circle(img, (1010,350), 10, (0,0,255), -1)\n",
    "cv2.circle(img, (1125,590), 10, (255,255,255), -1)\n",
    "\n",
    "M = cv2.getPerspectiveTransform(pts1,pts2)\n",
    "dst = cv2.warpPerspective(img, M, (height, width))\n",
    "\n",
    "cv2.imshow(\"Original\", img)\n",
    "cv2.imshow(\"dst\", dst)\n",
    "\n",
    "cv2.waitKey(0)\n",
    "cv2.destroyAllWindows()"
   ]
  }
 ],
 "metadata": {
  "kernelspec": {
   "display_name": "cv",
   "language": "python",
   "name": "cv"
  },
  "language_info": {
   "codemirror_mode": {
    "name": "ipython",
    "version": 3
   },
   "file_extension": ".py",
   "mimetype": "text/x-python",
   "name": "python",
   "nbconvert_exporter": "python",
   "pygments_lexer": "ipython3",
   "version": "3.8.17"
  }
 },
 "nbformat": 4,
 "nbformat_minor": 5
}
