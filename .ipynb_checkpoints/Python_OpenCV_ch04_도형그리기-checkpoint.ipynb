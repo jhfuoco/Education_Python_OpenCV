{
 "cells": [
  {
   "cell_type": "markdown",
   "id": "f2ad78d0-f652-4b5f-ad59-d9bcc9521394",
   "metadata": {},
   "source": [
    "# 4. 도형 그리기\n",
    "\n",
    "빈 스케치북 만들기  \n",
    "np.zeros() => 배열을 생성하고, 0으로 채워라  \n",
    "np.zeros() => 배열을 생성하고, 1로 채워라\n",
    "\n",
    "uint8\n",
    " - int: 정수(-, 0, +)\n",
    " - uint: 정수(0, +)\n",
    " - 8: 8bit -> 0000 0010 <-2를 표현, 1111 1111 = 255\n",
    "픽셀 : 0~255"
   ]
  },
  {
   "cell_type": "code",
   "execution_count": 3,
   "id": "20b3ac1c-47a5-49a6-8097-6352212949b3",
   "metadata": {},
   "outputs": [],
   "source": [
    "import cv2\n",
    "import numpy as np\n",
    "\n",
    "img = np.zeros((480,640,3), dtype=np.uint8)\n",
    "# img[:] = (0, 0, 255)\n",
    "\n",
    "cv2.imshow(\"img\", img)\n",
    "cv2.waitKey(0)\n",
    "cv2.destroyAllWindows()"
   ]
  },
  {
   "cell_type": "markdown",
   "id": "c8661fb4-a3d6-4f1f-bb12-6252ed1447af",
   "metadata": {},
   "source": [
    "## 일부 영역 색칠"
   ]
  },
  {
   "cell_type": "code",
   "execution_count": 4,
   "id": "5c5e8eae-dff3-4a68-9bfb-d5ff01fa2b41",
   "metadata": {},
   "outputs": [],
   "source": [
    "import cv2\n",
    "import numpy as np\n",
    "\n",
    "img = np.zeros((480,640,3), dtype=np.uint8)\n",
    "img[100:200, 200:300] = (255, 255, 0)\n",
    "\n",
    "cv2.imshow(\"img\", img)\n",
    "cv2.waitKey(0)\n",
    "cv2.destroyAllWindows()"
   ]
  },
  {
   "cell_type": "markdown",
   "id": "b42d197a-53d2-435a-ac74-c75b1c3c4ec6",
   "metadata": {},
   "source": [
    "## 직선\n",
    "```python\n",
    "# 하나의 직선을 그리는 함수\n",
    "# - start: 시작 좌표(2차원)\n",
    "# - end: 종료 좌표(2차원)\n",
    "# - thickness: 선의 두께\n",
    "# - cv2.LINE_8: 선의 종류(기본)\n",
    "cv2.line(image, start, end, color, thickness, cv2.LINE_8)\n",
    "```\n",
    "\n",
    "직선의 종류(line type)\n",
    "1. cv2.LINE_4 : 상하좌우 4방향으로 연결된 선\n",
    "2. cv2.LINE_8 : 대각선을 포함한 8방향으로 연결된 선\n",
    "3. cv2.LINE_AA : 부드러운선(anti-aliasing)"
   ]
  },
  {
   "cell_type": "code",
   "execution_count": 1,
   "id": "aa6b93ee-7634-4ab8-abb6-1e2fcdb780d3",
   "metadata": {},
   "outputs": [],
   "source": [
    "import cv2\n",
    "import numpy as np\n",
    "\n",
    "img = np.zeros((480, 640, 3), dtype=np.uint8)\n",
    "\n",
    "COLOR = (0, 255, 255) #BGR: Yellow\n",
    "THICKNESS = 3 #두께\n",
    "\n",
    "cv2.line(img,(50,100), (400, 50), COLOR, THICKNESS, cv2.LINE_4)\n",
    "cv2.line(img,(50,200), (400, 150), COLOR, THICKNESS, cv2.LINE_8)\n",
    "cv2.line(img,(50,300), (400, 250), COLOR, THICKNESS, cv2.LINE_AA)\n",
    "cv2.imshow(\"img\", img)\n",
    "cv2.waitKey(0)\n",
    "cv2.destroyAllWindows()"
   ]
  },
  {
   "cell_type": "markdown",
   "id": "eef116de-024f-4143-99bc-5ad58ecb0b1e",
   "metadata": {},
   "source": [
    "원 그리기"
   ]
  },
  {
   "cell_type": "code",
   "execution_count": 3,
   "id": "7a241078-4e2e-44f8-8459-044dce853109",
   "metadata": {},
   "outputs": [],
   "source": [
    "import cv2\n",
    "import numpy as np\n",
    "\n",
    "img = np.zeros((480, 640, 3), dtype=np.uint8)\n",
    "\n",
    "COLOR = (255, 0, 255) #BGR : Pink\n",
    "RADIUS = 50 #반지름\n",
    "THICKNESS = 10 #두께\n",
    "                #  중심점     반지름   색상       두께       선 종류\n",
    "cv2.circle(img, (200,100), RADIUS, COLOR, THICKNESS, cv2.LINE_AA)\n",
    "cv2.circle(img, (400,100), RADIUS, COLOR, cv2.FILLED, cv2.LINE_AA)\n",
    "\n",
    "\n",
    "cv2.imshow(\"img\", img)\n",
    "cv2.waitKey(0)\n",
    "cv2.destroyAllWindows()"
   ]
  },
  {
   "cell_type": "markdown",
   "id": "86f95839-cc98-4999-9ca7-5e4ece8bf35e",
   "metadata": {},
   "source": [
    "사각형"
   ]
  },
  {
   "cell_type": "code",
   "execution_count": null,
   "id": "49635e0a-6da5-4b10-9c46-df6fe380563e",
   "metadata": {},
   "outputs": [],
   "source": [
    "import cv2\n",
    "import numpy as np\n",
    "\n",
    "img = np.zeros((480, 640, 3), dtype=np.uint8)\n",
    "\n",
    "COLOR = (0, 255, 0) #BGR : Green\n",
    "THICKNESS = 3 #두께\n",
    "\n",
    "cv2.rectangle(img, (100, 100), (200, 200), COLOR, THICKNESS)\n",
    "cv2.rectangle(img, (300, 100), (400, 300), COLOR, cv2.FILLED)\n",
    "\n",
    "cv2.imshow(\"img\", img)\n",
    "cv2.waitKey(0)\n",
    "cv2.destroyAllWindows()"
   ]
  }
 ],
 "metadata": {
  "kernelspec": {
   "display_name": "Python 3 (ipykernel)",
   "language": "python",
   "name": "python3"
  },
  "language_info": {
   "codemirror_mode": {
    "name": "ipython",
    "version": 3
   },
   "file_extension": ".py",
   "mimetype": "text/x-python",
   "name": "python",
   "nbconvert_exporter": "python",
   "pygments_lexer": "ipython3",
   "version": "3.8.17"
  }
 },
 "nbformat": 4,
 "nbformat_minor": 5
}
