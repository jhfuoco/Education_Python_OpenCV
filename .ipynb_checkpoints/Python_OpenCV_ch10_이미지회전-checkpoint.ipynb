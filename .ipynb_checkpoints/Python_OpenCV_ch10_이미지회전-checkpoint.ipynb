{
 "cells": [
  {
   "cell_type": "markdown",
   "id": "7db2c80c-9682-4aaf-af1e-dd32abe95374",
   "metadata": {},
   "source": [
    "# 10. 이미지 회전"
   ]
  },
  {
   "cell_type": "raw",
   "id": "718ecbb2-0380-4ef3-a1b5-f6c402cf54b0",
   "metadata": {},
   "source": [
    "시계방향 90도 회전"
   ]
  },
  {
   "cell_type": "code",
   "execution_count": 2,
   "id": "55b30db4-74a8-4d04-898d-4bd755eaaf2a",
   "metadata": {},
   "outputs": [],
   "source": [
    "import cv2\n",
    "img = cv2.imread(\"./data/panda.jpg\")\n",
    "\n",
    "rotate_90 = cv2.rotate(img, cv2.ROTATE_90_CLOCKWISE)\n",
    "\n",
    "cv2.imshow(\"img\", img)\n",
    "cv2.imshow(\"rotate_90\", rotate_90)\n",
    "cv2.waitKey(0)\n",
    "cv2.destroyAllWindows()"
   ]
  },
  {
   "cell_type": "raw",
   "id": "93a00f05-9f54-465d-910c-0ae459544d09",
   "metadata": {},
   "source": [
    "180도 회전"
   ]
  },
  {
   "cell_type": "code",
   "execution_count": 1,
   "id": "ec0ce1e1-06c5-4497-9d70-9a15a710efbe",
   "metadata": {},
   "outputs": [],
   "source": [
    "import cv2\n",
    "img = cv2.imread(\"./data/panda.jpg\")\n",
    "\n",
    "rotate_180 = cv2.rotate(img, cv2.ROTATE_180)\n",
    "\n",
    "cv2.imshow(\"img\", img)\n",
    "cv2.imshow(\"rotate_180\", rotate_180)\n",
    "cv2.waitKey(0)\n",
    "cv2.destroyAllWindows()"
   ]
  },
  {
   "cell_type": "raw",
   "id": "67e2dfee-53e0-4acf-b70c-8c07089d7f65",
   "metadata": {},
   "source": [
    "시계 반대방향 90도 회전(시계방향 270도 회전)"
   ]
  },
  {
   "cell_type": "code",
   "execution_count": null,
   "id": "d9bc83ca-0584-47f4-bc45-aaafa37610b8",
   "metadata": {},
   "outputs": [],
   "source": [
    "import cv2\n",
    "img = cv2.imread(\"./data/panda.jpg\")\n",
    "\n",
    "rotate_270 = cv2.rotate(img, cv2.ROTATE_90_COUNTERCLOCKWISE)\n",
    "\n",
    "cv2.imshow(\"img\", img)\n",
    "cv2.imshow(\"rotate_270\", rotate_270)\n",
    "cv2.waitKey(0)\n",
    "cv2.destroyAllWindows()"
   ]
  }
 ],
 "metadata": {
  "kernelspec": {
   "display_name": "cv",
   "language": "python",
   "name": "cv"
  },
  "language_info": {
   "codemirror_mode": {
    "name": "ipython",
    "version": 3
   },
   "file_extension": ".py",
   "mimetype": "text/x-python",
   "name": "python",
   "nbconvert_exporter": "python",
   "pygments_lexer": "ipython3",
   "version": "3.8.17"
  }
 },
 "nbformat": 4,
 "nbformat_minor": 5
}
