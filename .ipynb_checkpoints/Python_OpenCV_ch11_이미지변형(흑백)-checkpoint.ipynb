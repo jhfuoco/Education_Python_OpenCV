{
 "cells": [
  {
   "cell_type": "markdown",
   "id": "2c9c999e-e7f9-48e8-8213-3ddb3f747913",
   "metadata": {},
   "source": [
    "# 11. 이미지 변형"
   ]
  },
  {
   "cell_type": "raw",
   "id": "591d40aa-3fd9-40a0-8e36-9c8665335ec7",
   "metadata": {},
   "source": [
    "컬러이미지보다 흑백이미지 특징, 경계선 검출 기타 등등 기술 훨씬 잘 인식!"
   ]
  },
  {
   "cell_type": "markdown",
   "id": "01dcaa50-0b17-45f0-8364-bd540ac94dbb",
   "metadata": {},
   "source": [
    "## 흑백"
   ]
  },
  {
   "cell_type": "raw",
   "id": "310d7cff-0f6a-46d1-817a-f38d578688ba",
   "metadata": {},
   "source": [
    "이미지를 흑백으로 읽음"
   ]
  },
  {
   "cell_type": "code",
   "execution_count": 1,
   "id": "5222b5dd-ec27-4e04-9cd4-60893c932135",
   "metadata": {},
   "outputs": [],
   "source": [
    "import cv2\n",
    "img = cv2.imread(\"./data/panda.jpg\", cv2.IMREAD_GRAYSCALE)\n",
    "cv2.imshow('img',img)\n",
    "cv2.waitKey(0)\n",
    "cv2.destroyAllWindows()"
   ]
  },
  {
   "cell_type": "raw",
   "id": "0d80457b-2a62-459f-afa7-6153edf3e20f",
   "metadata": {},
   "source": [
    "불러온 이미지를 흑백으로 변경"
   ]
  },
  {
   "cell_type": "code",
   "execution_count": 1,
   "id": "c3d9ce84-ad18-4858-ba04-d4f3350e5d34",
   "metadata": {},
   "outputs": [],
   "source": [
    "import cv2\n",
    "img = cv2.imread(\"./data/panda.jpg\")\n",
    "\n",
    "dst = cv2.cvtColor(img, cv2.COLOR_BGR2GRAY)\n",
    "\n",
    "cv2.imshow(\"img\", img)\n",
    "cv2.imshow(\"gray\", dst)\n",
    "cv2.waitKey(0)\n",
    "cv2.destroyAllWindows()"
   ]
  },
  {
   "cell_type": "raw",
   "id": "09a98329-a7ee-4952-900c-54539147a006",
   "metadata": {},
   "source": [
    "흐림(가우시안 필터)\n",
    "- 평균값 필터 블러링의 단점은\n",
    "    필터링 대상 위치에서 가까이 있는 픽셀과\n",
    "    멀리 있는 픽셀이 모두 같은 가중치를 사용하는 평균을 계산,\n",
    "    즉, 멀리 있는 픽셀의 영향을 많이 받아\n",
    "    필터 결과의 퀄리티가 낮아지게 됨.\n",
    "\n",
    "- 가우시안 필터 블러링은 정규분포를 사용해서 가까운 픽셀은 큰 가중치,\n",
    "    멀리있는 픽셀은 작은 가중치를 사용\n",
    "    \n",
    "- 이미지 또는 영상을 흐리게 전처리\n",
    "\n",
    "- 원본 이미지 -> 흑백 처리 -> 흐림(가우시안) -> 작업!\n",
    "\n",
    "- 가우시안 분포 = 정규분포 => 종 모양 그래프"
   ]
  },
  {
   "cell_type": "raw",
   "id": "0bdf594e-79ee-4484-b8c2-1936982066d2",
   "metadata": {},
   "source": [
    "커널 사이즈의 변화에 다른 흐림처리"
   ]
  },
  {
   "cell_type": "code",
   "execution_count": 1,
   "id": "ea230488-4ad5-4fbd-a27d-81d7da3d01b6",
   "metadata": {},
   "outputs": [],
   "source": [
    "import cv2\n",
    "img = cv2.imread(\"./data/panda.jpg\")\n",
    "\n",
    "kernel_3 = cv2.GaussianBlur(img, (3,3), 0)\n",
    "kernel_5 = cv2.GaussianBlur(img, (5,5), 0)\n",
    "kernel_7 = cv2.GaussianBlur(img, (7,7), 0)\n",
    "\n",
    "cv2.imshow(\"img\", img)\n",
    "cv2.imshow(\"kernel_3\", kernel_3)\n",
    "cv2.imshow(\"kernel_5\", kernel_5)\n",
    "cv2.imshow(\"kernel_7\", kernel_7)\n",
    "cv2.waitKey(0)\n",
    "cv2.destroyAllWindows()"
   ]
  }
 ],
 "metadata": {
  "kernelspec": {
   "display_name": "cv",
   "language": "python",
   "name": "cv"
  },
  "language_info": {
   "codemirror_mode": {
    "name": "ipython",
    "version": 3
   },
   "file_extension": ".py",
   "mimetype": "text/x-python",
   "name": "python",
   "nbconvert_exporter": "python",
   "pygments_lexer": "ipython3",
   "version": "3.8.17"
  }
 },
 "nbformat": 4,
 "nbformat_minor": 5
}
