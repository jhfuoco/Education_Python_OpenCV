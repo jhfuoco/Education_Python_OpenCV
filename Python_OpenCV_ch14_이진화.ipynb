{
 "cells": [
  {
   "cell_type": "markdown",
   "id": "50e48cd4-5876-4129-b960-ce7288947abc",
   "metadata": {},
   "source": [
    "# 14. 이진화"
   ]
  },
  {
   "cell_type": "markdown",
   "id": "89ed6380-1586-4041-9e48-5cfc71cd13a6",
   "metadata": {},
   "source": [
    "## Threshold\n",
    "\n",
    "- 임계값을 기준으로 흑/백으로 분류하는 함수\n",
    "- image : 처리할 Gray Scale 이미지\n",
    "- thresh : 임계값(전체 픽셀에 적용)\n",
    "- max_value : 임계값을 넘었을 때 적용할 값\n",
    "- type : 임계점을 처리하는 방식\n",
    "\n",
    "- THRESH_BINARY : 임계값보다 크면 max_value, 작으면 0\n",
    "- THRESH_BINARY_INV : 임계값보다 작으면 max_value, 크면 0\n",
    "- THRESH_TRUNC : 임계값보다 크면 임계값, 작으면 그대로\n",
    "- THRESH_TOZERO : 임계값보다 크면 그대로, 작으면 0\n",
    "- THRESH_TOZERO_INV : 임계값보다 크면 0, 작으면 그대로\n",
    "\n",
    "cv2.threshold(image, thresh, max_value, type):"
   ]
  },
  {
   "cell_type": "code",
   "execution_count": 3,
   "id": "6d75326a-0e3f-49e4-8891-6d4d2e2a63d8",
   "metadata": {},
   "outputs": [],
   "source": [
    "import cv2\n",
    "image = cv2.imread('./data/gray_image.jpeg', cv2.IMREAD_GRAYSCALE)\n",
    "\n",
    "images = []\n",
    "# 임계값 127\n",
    "ret, thres1 = cv2.threshold(image, 127, 255, cv2.THRESH_BINARY)\n",
    "ret, thres2 = cv2.threshold(image, 127, 255, cv2.THRESH_BINARY_INV)\n",
    "ret, thres3 = cv2.threshold(image, 127, 255, cv2.THRESH_TRUNC)\n",
    "ret, thres4 = cv2.threshold(image, 127, 255, cv2.THRESH_TOZERO)\n",
    "ret, thres5 = cv2.threshold(image, 127, 255, cv2.THRESH_TOZERO_INV)\n",
    "\n",
    "images.append(thres1)\n",
    "images.append(thres2)\n",
    "images.append(thres3)\n",
    "images.append(thres4)\n",
    "images.append(thres5)\n",
    "\n",
    "for i, pic in enumerate(images):\n",
    "    cv2.imshow(f'gray_{i}', cv2.cvtColor(pic, cv2.COLOR_GRAY2RGB))\n",
    "cv2.waitKey(0)\n",
    "cv2.destroyAllWindows()"
   ]
  },
  {
   "cell_type": "code",
   "execution_count": 1,
   "id": "9879df08-e2ac-4231-b644-fc28de2ab8f0",
   "metadata": {},
   "outputs": [],
   "source": [
    "import cv2\n",
    "img = cv2.imread('./data/apple.png', cv2.IMREAD_COLOR)\n",
    "img_gray = cv2.cvtColor(img, cv2.COLOR_BGR2GRAY)\n",
    "\n",
    "# 임계값 127\n",
    "## 127보다 크면 255(하양)\n",
    "## 127보다 작으면 0(검정)\n",
    "\n",
    "ret, binary = cv2.threshold(img_gray, 127, 255, cv2.THRESH_BINARY_INV)\n",
    "\n",
    "cv2.imshow('img', img)\n",
    "cv2.imshow('gray', img_gray)\n",
    "cv2.imshow('binary', binary)\n",
    "cv2.waitKey(0)\n",
    "cv2.destroyAllWindows()"
   ]
  },
  {
   "cell_type": "code",
   "execution_count": 1,
   "id": "ff328104-3a63-4cd2-80b2-33f8a92441d8",
   "metadata": {},
   "outputs": [],
   "source": [
    "import cv2\n",
    "\n",
    "def empty(pos):\n",
    "    # print(pos)\n",
    "    pass\n",
    "\n",
    "img = cv2.imread('./data/apple.png', cv2.IMREAD_GRAYSCALE)\n",
    "\n",
    "name = 'Trackbar'\n",
    "cv2.namedWindow(name)\n",
    "\n",
    "cv2.createTrackbar('threshold', name, 127, 255, empty) # bar이름, 창의 이름, 초기값, 최대값, 이벤트처리\n",
    "\n",
    "while True:\n",
    "    thresh = cv2.getTrackbarPos('threshold', name) # bar이름, 창의 이름\n",
    "    ret, binary = cv2.threshold(img, thresh, 255, cv2.THRESH_BINARY)\n",
    "\n",
    "    if not ret:\n",
    "        break\n",
    "\n",
    "    cv2.imshow(name, binary)\n",
    "    if cv2.waitKey(1) == ord('q'):\n",
    "        break\n",
    "\n",
    "cv2.destroyAllWindows()"
   ]
  },
  {
   "cell_type": "markdown",
   "id": "2c6bcbb5-6b61-41dc-8e8d-cb6735339714",
   "metadata": {},
   "source": [
    "## Adaptive Threshold\n",
    "\n",
    "이미지를 작은 영역으로 나누어서 임계치 적용\n",
    "\n",
    "적응 임계점 처리 함수\n",
    "- 하나의 이미지에 다수의 조명 상태가 존재하는 경우 적용하면 좋음\n",
    "- Adaptive Threshold를 이용하면, 전체 픽셀을 기준으로 임계값을 적용하지 않음\n",
    "- max_value : 임계값을 넘었을때 적용할 값\n",
    "- adaptive_method : 임계값을 결정하는 계산방법\n",
    "- ADAPTIVE_THRESH_MEAN_C : 주변영역의 평균값으로 결정\n",
    "\n",
    "- ADAPTIVE_THRESH_GAUSSIAN_C :\n",
    "* type : 임계점을 처리하는 방식\n",
    "* block_size : 임계값을 적용할 영역의 크기\n",
    "* C : 평균이나 가중 평균에서 차감할 값\n",
    "\n",
    "cv2.adaptiveThreshold(image, max_value, adaptive_method, type, block_size, C):"
   ]
  },
  {
   "cell_type": "markdown",
   "id": "6627efeb-09ad-4c24-a33d-3cb50a3fbf2e",
   "metadata": {},
   "source": [
    "### ADAPTIVE_THRESH_MEAN_C : 주변영역의 평균값으로 결정\n",
    "- 적용할 픽셀(x,y)를 중심으로 하는 Block Size x Block Size 안에 있는  \n",
    "  픽셀 값의 평균에서 C를 뺀 값을 임계점으로 사용\n",
    "### ADAPTIVE_THRESH_GAUSSIAN_C\n",
    "- 적용할 픽셀(x,y)를 중심으로 하는 Block Size x Block Size 안에 있는  \n",
    "  Gaussian 윈도우 기반의 가중치들의 합에서 C를 뺀 값을 임계점으로 사용\n",
    "- 가운데가 가장 큰 값, 가장자리로 갈수록 작은 값\n",
    "\n",
    "\n",
    "\n"
   ]
  },
  {
   "cell_type": "code",
   "execution_count": null,
   "id": "dc268cfb-2852-4369-8e61-30b9171cb608",
   "metadata": {},
   "outputs": [],
   "source": [
    "import cv2\n",
    "\n",
    "def empty(pos):\n",
    "    # print(pos)\n",
    "    pass\n",
    "\n",
    "img = cv2.imread('./data/book.png', cv2.IMREAD_GRAYSCALE)\n",
    "\n",
    "name = 'Trackbar'\n",
    "cv2.namedWindow(name)\n",
    "\n",
    "# bar 이름, 창의 이름, 초기값, 최대값, 이벤트 처리\n",
    "cv2.createTrackbar('block_size', name, 25, 100, empty) #홀수만 가능, 1보다는 큰값\n",
    "cv2.createTrackbar('c', name, 3, 10, empty) #일반적으로 양수의 값을 사용\n",
    "\n",
    "\n",
    "while True:\n",
    "    block_size = cv2.getTrackbarPos('block_size', name) # bar이름, 창의 이름\n",
    "    c = cv2.getTrackbarPos('c', name)\n",
    "\n",
    "    if block_size <= 1: #1이하면 3으로\n",
    "        block_size = 3\n",
    "\n",
    "    if block_size % 2 == 0: #짝수이면 홀수로\n",
    "        block_size += 1\n",
    "\n",
    "    binary = cv2.adaptiveThreshold(img, 255, cv2.ADAPTIVE_THRESH_MEAN_C, cv2.THRESH_BINARY, block_size, c)\n",
    "\n",
    "    cv2.imshow(name, binary)\n",
    "    if cv2.waitKey(1) == ord('q'):\n",
    "        break\n",
    "\n",
    "cv2.destroyAllWindows()"
   ]
  },
  {
   "cell_type": "markdown",
   "id": "0e7a0c59-aecb-485d-b7bb-a2a5140b33f5",
   "metadata": {},
   "source": [
    "## 오츠 알고리즘\n",
    "\n",
    "### Bimodal Image에 사용하기 적합(최적의 임계치를 자동으로 발견)\n",
    "- Bimodal Image란 히스토그램 상에서 2개의 봉우리가 높게 치솟는 이미지  \n",
    "```python\n",
    "경계값을 임의로 정해서 픽셀들을 두 부류로 나누고, 두 부류의 명암 분포를 반복해서 구한 다음\n",
    "두 부류의 명암 분포를 가장 균일하게 하는 경계값을 선택, 임계값 T라고 했을 때,\n",
    "T를 기준으로 이진 분류된 픽셀의 비율의 차가 가장 작은 optimal T를 구하는 방식\n",
    "```\n",
    "- 모든 임계값을 다 걔산하기 때문에 속도가 느림\n",
    "- 노이즈가 많은 영상에는 오츠 알고리즘을 적용해도 좋은 결과를 얻지 못함"
   ]
  },
  {
   "cell_type": "code",
   "execution_count": 1,
   "id": "2e453777-c9f5-4f9e-a2ae-797a2e33beed",
   "metadata": {},
   "outputs": [
    {
     "name": "stdout",
     "output_type": "stream",
     "text": [
      "otsh threshold 110.0\n"
     ]
    }
   ],
   "source": [
    "import cv2\n",
    "img = cv2.imread('./data/book.png', cv2.IMREAD_GRAYSCALE)\n",
    "\n",
    "ret, otsu = cv2.threshold(img, -1, 255, cv2.THRESH_BINARY | cv2.THRESH_OTSU,)\n",
    "print('otsh threshold', ret)\n",
    "\n",
    "cv2.imshow('img', img)\n",
    "cv2.imshow('otsu', otsu)\n",
    "cv2.waitKey(0)\n",
    "cv2.destroyAllWindows()"
   ]
  }
 ],
 "metadata": {
  "kernelspec": {
   "display_name": "cv",
   "language": "python",
   "name": "cv"
  },
  "language_info": {
   "codemirror_mode": {
    "name": "ipython",
    "version": 3
   },
   "file_extension": ".py",
   "mimetype": "text/x-python",
   "name": "python",
   "nbconvert_exporter": "python",
   "pygments_lexer": "ipython3",
   "version": "3.8.17"
  }
 },
 "nbformat": 4,
 "nbformat_minor": 5
}
